{
 "cells": [
  {
   "cell_type": "markdown",
   "metadata": {},
   "source": [
    "# Capstone Project - The Battle of Neighborhoods"
   ]
  },
  {
   "cell_type": "markdown",
   "metadata": {},
   "source": [
    "Coursera Capstone Project: <b>The Battle of Neighborhoods</b>"
   ]
  },
  {
   "cell_type": "markdown",
   "metadata": {},
   "source": [
    "## Table of contents"
   ]
  },
  {
   "cell_type": "markdown",
   "metadata": {},
   "source": [
    "- Introduction \n",
    "- Data\n",
    "- Methodology\n",
    "- Exploratory Data Analysis\n",
    "- Results\n",
    "- Discussion\n",
    "- Conclusion"
   ]
  },
  {
   "cell_type": "markdown",
   "metadata": {},
   "source": [
    "## 1. Introduction"
   ]
  },
  {
   "cell_type": "markdown",
   "metadata": {},
   "source": [
    "California's second largest city and the United States' eighth largest, San Diego boasts a citywide population of nearly 1.3 million residents and more than 3 million residents countywide. Within its borders of 4,200 sq. miles, San Diego County encompasses 18 incorporated cities and numerous other charming neighborhoods and communities, including downtown's historic Gaslamp Quarter, Little Italy, Coronado, La Jolla, Del Mar, Carlsbad, and Chula Vista just to name a few. \n",
    "\n",
    "San Diego is renowned for its idyllic climate, 70 miles of pristine beaches and a dazzling array of world-class family attractions. Popular attractions include the world-famous San Diego Zoo and San Diego Zoo Safari Park, SeaWorld San Diego and LEGOLAND California. The sunny weather makes San Diego a hot spot for vacationers of all ages from around the world. \n",
    "\n",
    "But the city is not only about tourism and beach holidays. Thanks to the spirit of collaboration, plenty of qualified employees, and favorable conditions for entrepreneurship, San Diego is a good city to start a business. \n",
    "\n",
    "The economy of the San Diego county region is going strong. San Diego, having GDP of over $250 million, made it to the top 20 major cities in the United States.\n",
    "\n",
    "Being so attractive economically and geographically, San Diego draws in people like a magnet. Business owners often consider San Diego city as a good destination for moving and expanding their business because of housing and low cost of doing business as compared to Los Angeles and San Francisco areas. Also, its year-around good weather tremendously helps small businesses that rely on foot traffic.\n",
    "\n",
    "As a resident of this city, I decided to use San Diego in my project."
   ]
  },
  {
   "cell_type": "markdown",
   "metadata": {},
   "source": [
    "### 1.1 Business Problem"
   ]
  },
  {
   "cell_type": "markdown",
   "metadata": {},
   "source": [
    "As <b>San Diego</b> receives people from all around the world, and people love to try new food, we will try to find an adequate location for opening up an <b><i>Italian Restaurant</i></b> in <b>San Diego</b>. Finding a proper location for a restaurant is crucial for business success. Hence, to select the right location for the restaurant, we will consider following elements:\n",
    "\n",
    "1. <b>Know the neighborhood</b>, specifically, who else is doing business in the neighborhood \n",
    "- <b>Find a place which is not crowded with similar restaurants in vicinity</b>\n",
    "- <b>Accessibility and visibility</b> of the location\n",
    "- <b>Population base</b> to know the foot traffic or car traffic in the area to support the business\n",
    "- <b>Parking</b> for the customers, and \n",
    "- <b>Low crime rate</b> in the area as high crime rates can make potential customers uncomfortable to visit the restaurant due to fears over public safety.\n",
    "\n",
    "Our objective is to discover <b>a few most promising neighborhoods</b> based on above-mentioned criteria using data science skills, and present them with statistics so that the stakeholders can select the precise location for their restaurant."
   ]
  },
  {
   "cell_type": "markdown",
   "metadata": {},
   "source": [
    "### 1.2 Interest"
   ]
  },
  {
   "cell_type": "markdown",
   "metadata": {},
   "source": [
    "Our target stakeholders are the <b>restaurant entrepreneurs</b> who would be interested in starting a restaurant in San Diego, California."
   ]
  },
  {
   "cell_type": "markdown",
   "metadata": {},
   "source": [
    "## 2. Data"
   ]
  },
  {
   "cell_type": "markdown",
   "metadata": {},
   "source": [
    "To address the problem, we can list the required data as below:\n",
    "1. I have scraped San Diego neighborhoods data from wikipedia (https://en.wikipedia.org/wiki/Template:Neighborhoods_of_San_Diego) uisng '<b>BeautifulSoup</b>' library and processed the data in order to use this in this project.\n",
    "- Python <b>geopy</b> library is used to obtain the <b>geographical coordinates-- latitude and longitude of San Diego</b> and other addresses of interest.\n",
    "-  <b>Forsquare API</b> is used to get the most common <b>venues of given Neighborhoods of San Diego</b>.\n",
    "- I have collected some demographical information as well as property facts data such as <b>Population</b>, <b>Median Home Value</b>, <b>Median Rent</b>, <b>Median Household Income</b>, <b>Diversity</b>, <b>Cost of Living</b>, <b>Commute</b>, <b>Parking</b>, <b>Walkable to Restaurants</b>, and <b>Crime and Safety</b> for each location of interest from below links:\n",
    "    - https://www.niche.com/places-to-live/c/san-diego-county-ca/\n",
    "    - https://www.trulia.com/CA/San_Diego/"
   ]
  },
  {
   "cell_type": "markdown",
   "metadata": {},
   "source": [
    "## 3. Methodology"
   ]
  },
  {
   "cell_type": "markdown",
   "metadata": {},
   "source": [
    "I have used\n",
    "- python <b>geopy</b> library to obtain the <b>geographical coordinates of San Diego</b>.\n",
    "- the <b>Foursquare API</b> to segment and explore the neighborhoods as well as the latitude and longitude coordinates of each neighborhood. For this, I have set the limit as 100 and the radius 1000 meter for each neighborhood from their given latitude and longitude information. \n",
    "- the <b>Folium</b> library to visualize the neighborhoods in San Diego with neighborhoods superimposed on top.\n",
    "- the <b>explore</b> function to get the most common venue categories in each neighborhood and then used this feature to group the neighborhoods into clusters with the help of <b><i>K</i>-means clustering</b> algorithm. \n",
    "- the <b>Folium</b> library to visualize the neighborhoods in San Diego and their emerging clusters.\n",
    "- the demographical as well as property facts data about San Diego neigborhoods to rate them based on these data, and merge them with related clusters of neighborhoods.\n",
    "- the <b>Folium</b> library to visualize final selected locations for opening up a restaurant based on the criteria mentioned in the section-1.1."
   ]
  },
  {
   "cell_type": "markdown",
   "metadata": {},
   "source": [
    "## 4. Exploratory Data Analysis"
   ]
  },
  {
   "cell_type": "markdown",
   "metadata": {},
   "source": [
    "### A. Required libraries"
   ]
  },
  {
   "cell_type": "markdown",
   "metadata": {},
   "source": [
    "<img src=\"../images/report_required_libraray_fig1.png\" width=\"500\" height=\"300\">"
   ]
  },
  {
   "cell_type": "markdown",
   "metadata": {},
   "source": [
    "### B. Dataframe containing San Diego neighborhoods and geographical coordinates -- latitude and longitude of each neighborhood\n",
    "\n"
   ]
  },
  {
   "cell_type": "markdown",
   "metadata": {},
   "source": [
    "<img src=\"../images/sd_hoods_lat_lng_fig0.png\" width=\"500\" height=\"300\">"
   ]
  },
  {
   "cell_type": "markdown",
   "metadata": {},
   "source": [
    "### C. Map of San Diego with neighborhoods superimposed on top"
   ]
  },
  {
   "cell_type": "markdown",
   "metadata": {},
   "source": [
    "We have used <b>geopy</b> library to get the latitude and longitude values of <b>San Diego</b> City. Then, we have created map of <b>San Diego</b> using latitude and longitude values with <b>neighborhoods</b> superimposed on top."
   ]
  },
  {
   "cell_type": "markdown",
   "metadata": {},
   "source": [
    "<img src=\"../images/sd_map_fig1.png\" width=\"800\" height=\"400\">"
   ]
  },
  {
   "cell_type": "markdown",
   "metadata": {},
   "source": [
    "### D. Explore Neighborhoods in San Diego"
   ]
  },
  {
   "cell_type": "markdown",
   "metadata": {},
   "source": [
    "I have used the <b>Foursquare API</b> to explore the neighborhoods and segment them. I set the limit as 100 venue and the radius 1000 meter for each neighborhood from their given latitude and longitude value. We have written two functions - <b>get_category</B>() to extract the category of the venue, and <b>get_nearby_venues</b>() to get all the nearby venues in the neighborhoods. Then, we have converted relevant data into a pandas dataframe containing \n",
    "columns - <b>Neighborhood</b>, <b>Neighborhood_Lat</b>, <b>Neighborhood_Lng</b>, <b>Venue</b>, <b>Venue_Lat</b>, <b>Venue_Lng</b>, <b>Venue_Category</b>."
   ]
  },
  {
   "cell_type": "markdown",
   "metadata": {},
   "source": [
    "- Number of venues returned by Foursquare: <b>10283</b>\n",
    "- Number of unique venue category: <b>510</b>\n",
    "\n",
    "Below is the dataframe containing venues, venue categories, latitude, and longitude of each neighborhood returned by <b>Foursquare</b>: "
   ]
  },
  {
   "cell_type": "markdown",
   "metadata": {},
   "source": [
    "<img src=\"../images/sd_hoods_lat_lng_venues_fig2.png\" width=\"800\" height=\"400\">"
   ]
  },
  {
   "cell_type": "markdown",
   "metadata": {},
   "source": [
    "Following Bar chart shows number of venues in each neighborhoods:"
   ]
  },
  {
   "cell_type": "markdown",
   "metadata": {},
   "source": [
    "<img src=\"../images/sd_hoods_venues_100_fig3.png\" width=\"800\" height=\"400\">"
   ]
  },
  {
   "cell_type": "markdown",
   "metadata": {},
   "source": [
    "In the above barplot, we can see that <b>Midway</b>, <b>Kearny Mesa</b>, <b>Serra Mesa</b>, <b>Mira Mesa</b>, <b>Miramar</b>, <b>Torrey Pines</b>, <b>Hillcrest</b>, <b>Village of La Jolla</b>, and many other neighborhoods have reached the <b>100</b> limit of venues. On the other hand, <b>Burlingame</b> and <b>Core</b> have less than <b>50</b> venues. "
   ]
  },
  {
   "cell_type": "markdown",
   "metadata": {},
   "source": [
    "### E. Analyze Each Neighborhood"
   ]
  },
  {
   "cell_type": "markdown",
   "metadata": {},
   "source": [
    "- Number of neighborhoods having <b>100 or more</b> venues: <b>84</b>\n",
    "- Number of unique venues: <b>491</b>\n",
    "\n",
    "Dataframe displaying the top 10 venues for each neighborhood:"
   ]
  },
  {
   "cell_type": "markdown",
   "metadata": {},
   "source": [
    "<img src=\"../images/sd_hoods_top10_venues_fig4.png\" width=\"800\" height=\"400\">"
   ]
  },
  {
   "cell_type": "markdown",
   "metadata": {},
   "source": [
    "In the above dataframe, we can see that there are some <i>common venue categories</i> in neighborhoods. We will categorize neighborhoods into $k$ groups of similarity based on these common venue categories. For this, I have chosen <b><i>K</i>-means clustering</b> algorithm, an unsupervised learning algorithm, to cluster the neighborhood into $k$ clusters, where $k$ is the optimal number of clusters.\n",
    "\n",
    "<b><i>K</i>-means clustering</b> is a method of vector quantization, that aims to partition $n$ observations into $k$ clusters in which each observation belongs to the cluster with the nearest mean (cluster centers or cluster centroid), serving as a prototype of the cluster."
   ]
  },
  {
   "cell_type": "markdown",
   "metadata": {},
   "source": [
    "### Cluster Neighborhoods using <i>K</i>-means"
   ]
  },
  {
   "cell_type": "markdown",
   "metadata": {},
   "source": [
    "To perform the <b><i>K</i>-means clustering</b>, first, we have to determine the optimal number of clusters. In order to determine the optimal number of clusters $k$, I have used following two methods:\n",
    "- <b>Elbow method</b> which gives the value of $k$ such that the total <b>within-cluster variation (or error) is minimum</b>. This method calculates the <i>Within-Cluster-Sum of Squared Errors</i> (<b>WSS</b>) for different values of $k$, and choose the $k$ for which <b>WSS</b> becomes first starts to diminish.\n",
    "- <b>Silhouette Method</b> which measures how similar a point is to its own cluster (cohesion) compared to other clusters (separation). Also it shows the optimal number of clusters."
   ]
  },
  {
   "cell_type": "markdown",
   "metadata": {},
   "source": [
    "After analyzing above-mentioned two methods, I have set the <b>number of clusters</b> to $6$ ($k=6$) based on the <b>Elbow method</b>."
   ]
  },
  {
   "cell_type": "markdown",
   "metadata": {},
   "source": [
    "<img src=\"../images/sd_elbow_method_fig5.png\" width=\"500\" height=\"300\">"
   ]
  },
  {
   "cell_type": "markdown",
   "metadata": {},
   "source": [
    "#### Modeling using K-means Clustering"
   ]
  },
  {
   "cell_type": "markdown",
   "metadata": {},
   "source": [
    "<img src=\"../images/k_means_modeling_script.png\" width=\"500\" height=\"300\">"
   ]
  },
  {
   "cell_type": "markdown",
   "metadata": {},
   "source": [
    "Dataframe including cluster labels as well as the top 10 venues for each neighborhood is shown below:"
   ]
  },
  {
   "cell_type": "markdown",
   "metadata": {},
   "source": [
    "<img src=\"../images/sd_hoods_cluster_labels_fig6.png\" width=\"800\" height=\"400\">"
   ]
  },
  {
   "cell_type": "markdown",
   "metadata": {},
   "source": [
    "Visualizing the resulting clusters using <b>folium</b>:"
   ]
  },
  {
   "cell_type": "markdown",
   "metadata": {},
   "source": [
    "<img src=\"../images/sd_map_clusters_fig7.png\" width=\"800\" height=\"400\">"
   ]
  },
  {
   "cell_type": "markdown",
   "metadata": {},
   "source": [
    "### F. Explore Clusters"
   ]
  },
  {
   "cell_type": "markdown",
   "metadata": {},
   "source": [
    "Following bar chart shows number of 1st common venues in each Cluster:"
   ]
  },
  {
   "cell_type": "markdown",
   "metadata": {},
   "source": [
    "<img src=\"../images/sd_venue_numbers_ineach_cluster_fig10_a.png\" width=\"800\" height=\"400\">"
   ]
  },
  {
   "cell_type": "markdown",
   "metadata": {},
   "source": [
    "We have <b>6 clusters</b> of neighborhoods. Let's assign name to each cluster as follows: \n",
    "1. Cluster-0: <b>offices and automotive shops</b> \n",
    "- Cluster-1: <b>Multiple Venues - residential buildings, college and academic buildings, Salon, office, bank, restaurants, park, salon</b>       \n",
    "- Cluster-2: <b>Government buildings</b>\n",
    "- Cluster-3: <b>Doctor's and dentist's place</b> \n",
    "- Cluster-4: <b>Zoo exhibit</b> \n",
    "- Cluster-5: <b>Automotive shops</b>\n",
    "\n",
    "In the above barchart, we have observed that <b>Cluster-0</b> has offices, <b>Cluster-1</b> has multiple venues such as residential buildings, college and academic buidings, Salon, office, bank, restaurants, and marketplace etc, and <b>Cluster-3</b> has doctor's and dentist's place. In the following sections, we will perform explanatory data analysis and derive the following information about each neighborhood of <b>Cluster-0</b>, <b>Cluster-1</b>, and <b>Cluster-3</b>:\n",
    "\n",
    "- All the neighborhoods\n",
    "- Number and category of restaurants\n",
    "- Population base: Foot or car traffic\n",
    "- Parking\n",
    "- Demographical information such as population, housing, crime rate etc.\n",
    "\n",
    "All these elements are as crucial to a restaurant's success as great food and service."
   ]
  },
  {
   "cell_type": "markdown",
   "metadata": {},
   "source": [
    "### Cluster-0"
   ]
  },
  {
   "cell_type": "markdown",
   "metadata": {},
   "source": [
    "- Number of neighborhoods: <b>20</b>\n",
    "- Total number of restaurants: <b>97</b>\n",
    "- Unique restaurants: <b>22</b>\n",
    "- Number of neighborhoods with no Italian restaurants: <b>13</b>\n",
    "\n",
    "Horizontal stack bar chart displaying number of <b>non-Italian</n> restaurants: "
   ]
  },
  {
   "cell_type": "markdown",
   "metadata": {},
   "source": [
    "<img src=\"../images/sd_cluster0_hoods_non_italian_rests_fig20_b.png\" width=\"800\" height=\"400\">"
   ]
  },
  {
   "cell_type": "markdown",
   "metadata": {},
   "source": [
    "We have <b>13</b> neighborhoods within <b>Cluster-0</b> that have no Italian restaurants. From the above barchart, we have chosen neighborhoods having restaurants of 4 or more different categories and these are as follows:\n",
    "1. Sorrento Valley\n",
    "- Mission Valley East\n",
    "- Mission Valley West\n",
    "- Cortez Hill"
   ]
  },
  {
   "cell_type": "markdown",
   "metadata": {},
   "source": [
    "### Cluster-1"
   ]
  },
  {
   "cell_type": "markdown",
   "metadata": {},
   "source": [
    "- Number of neighborhoods: <b>47</b>\n",
    "- Total number of restaurants: <b>304</b>\n",
    "- Unique restaurants: <b>33</b>\n",
    "- Number of neighborhoods with no Italian restaurants: <b>31</b>\n",
    "\n",
    "Horizontal stack bar chart displaying number of <b>non-Italian</b> restaurants: "
   ]
  },
  {
   "cell_type": "markdown",
   "metadata": {},
   "source": [
    "<img src=\"../images/sd_cluster1_hoods_non_italian_rests_fig16_b.png\" width=\"800\" height=\"400\">"
   ]
  },
  {
   "cell_type": "markdown",
   "metadata": {},
   "source": [
    "We have <b>31</b> neighborhoods within <b>Cluster-1</b> that have no Italian restaurants. From the above barchart, we have chosen neighborhoods having restaurants of 4 or more different categories and these are as follows:\n",
    "1. Linda Vista\n",
    "- Logan Heights\n",
    "- Sherman Heights\n",
    "- Rolando Park\n",
    "- Gaslamp Quarter\n",
    "- City Heights\n",
    "- Chollas View\n",
    "- Morena\n",
    "- Del Mar Heights\n",
    "- Islenair\n",
    "- Serra Mesa\n",
    "- Del Mar Mesa\n",
    "- Rancho Penasquitos\n",
    "- Tierrasanta"
   ]
  },
  {
   "cell_type": "markdown",
   "metadata": {},
   "source": [
    "### Cluster-3"
   ]
  },
  {
   "cell_type": "markdown",
   "metadata": {},
   "source": [
    "- Number of neighborhoods: <b>9</b>\n",
    "- Total number of restaurants: <b>50</b>\n",
    "- Unique restaurants: <b>15</b>\n",
    "- Number of neighborhoods with no Italian restaurants: <b>7</b>\n",
    "\n",
    "Horizontal stack bar chart displaying number of <b>non-Italian</b> restaurants: "
   ]
  },
  {
   "cell_type": "markdown",
   "metadata": {},
   "source": [
    "<img src=\"../images/sd_cluster3_hoods_non_italian_rests_fig23_b.png\" width=\"800\" height=\"400\">"
   ]
  },
  {
   "cell_type": "markdown",
   "metadata": {},
   "source": [
    "We have <b>7</b> neighborhoods within <b>Cluster-3</b> that have <b>no Italian restaurants</b>.  From the above barchart, we have chosen neighborhoods having restaurants of 4 or more different categories and these are as follows:\n",
    "1. Mira Mesa\n",
    "- Valencia Park\n",
    "- Clairemont\n",
    "- Del Cerro"
   ]
  },
  {
   "cell_type": "markdown",
   "metadata": {},
   "source": [
    "### G. Importing and Merging demographical dataset"
   ]
  },
  {
   "cell_type": "markdown",
   "metadata": {},
   "source": [
    "In this section, we will import <b>demographical</b> dataset and perform basic <b>exploratory data analysis</b> to get the <b>demographical information</b> such as <b>Population</b>, <b>Median Home Value</b>, <b>Median Rent</b>,   <b>Median Household Income</b>, <b>Diversity</b>, <b>Cost of Living</b>, <b>Commute</b>, <b>Parking</b>, <b>Walkable to Restaurants</b>, and <b>Crime and Safety</b> of these selected <b>4</b> neighborhoods from <b>Cluster-0</b>, <b>14</b> neighborhoods from <b>Cluster-1</b>, and <b>4</b> neighborhoods from <b>Cluster-3</b>. Then, we will merge <b>demographical</b> dataset to the dataframe <b>sd_merged</b> to get the final dataframe. Finally, we will filter out <b>few most adequate neighborhoods</b> based on this new <b>merged dataset</b>."
   ]
  },
  {
   "cell_type": "markdown",
   "metadata": {},
   "source": [
    "Dataframe with demographical data of San Diego: "
   ]
  },
  {
   "cell_type": "markdown",
   "metadata": {},
   "source": [
    "<img src=\"../images/sd_demographical_data_fig24.png\" width=\"800\" height=\"400\">"
   ]
  },
  {
   "cell_type": "markdown",
   "metadata": {},
   "source": [
    "Dataframe with a new column Overall Rating after summing up the ratings of features – Diversity, Commute, Crime and Safety, Walkable to Restaurants, and Parking:\n"
   ]
  },
  {
   "cell_type": "markdown",
   "metadata": {},
   "source": [
    "<img src=\"../images/sd_demographical_data_overall_rating_fig25.png\" width=\"800\" height=\"400\">"
   ]
  },
  {
   "cell_type": "markdown",
   "metadata": {},
   "source": [
    "## 5. Results"
   ]
  },
  {
   "cell_type": "markdown",
   "metadata": {},
   "source": [
    "### A. List of the selected 8 Neighborhoods"
   ]
  },
  {
   "cell_type": "markdown",
   "metadata": {},
   "source": [
    "1. Clairemont \n",
    "- Mira Mesa\n",
    "- Tierrasanta\n",
    "- Rancho Penasquitos\n",
    "- Linda Vista\n",
    "- Mission Valley East \n",
    "- Serra Mesa \n",
    "- Mission Valley West"
   ]
  },
  {
   "cell_type": "markdown",
   "metadata": {},
   "source": [
    "### B. A barplot showing 'Neighborhoods' vs 'Overall Rating'"
   ]
  },
  {
   "cell_type": "markdown",
   "metadata": {},
   "source": [
    "<img src=\"../images/result2_neighborhoods_vs_rating_fig26_b2.png\" width=\"800\" height=\"400\">"
   ]
  },
  {
   "cell_type": "markdown",
   "metadata": {},
   "source": [
    "### C. Final dataframe after merging demographical data with clusters:"
   ]
  },
  {
   "cell_type": "markdown",
   "metadata": {},
   "source": [
    "<img src=\"../images/result3_sd_selected_neighborhoods_fig26_c.png\" width=\"800\" height=\"400\">"
   ]
  },
  {
   "cell_type": "markdown",
   "metadata": {},
   "source": [
    "### D. Map of San Diego with the selected 8 neighborhoods superimposed on top"
   ]
  },
  {
   "cell_type": "markdown",
   "metadata": {},
   "source": [
    "<img src=\"../images/result4_sd_map_selected_hoods_rating_fig26_d.png\" width=\"800\" height=\"400\">"
   ]
  },
  {
   "cell_type": "markdown",
   "metadata": {},
   "source": [
    "## 6. Discussion"
   ]
  },
  {
   "cell_type": "markdown",
   "metadata": {},
   "source": [
    "As I have mentioned before, being so attractive economically and geographically, <b>San Diego</b> draws in people like a magnet. Business owners often consider San Diego city as a good destination for moving and expanding their business because of housing and low cost of doing business as compared to Los Angeles and San Francisco areas. Also, its year-around good weather tremendously helps small businessess that rely on foot traffic.\n",
    "\n",
    "I have used <b>exploratory data analysis</b> and <b><i>K</i>-means clustering</b> algorithm for modeling in order to discover a few precise locations for opening up an <b>Italian</b> restaurant considering following elements:\n",
    "- Know the neighborhood, specifically, who else is doing business in the neighborhood\n",
    "- Find a place which is not crowded with similar restaurants in vicinity\n",
    "- Accessibility and visibility of the location\n",
    "- Population base to know the foot traffic or car traffic in the area to support the business\n",
    "- Parking\n",
    "- Diversity (based on ethnic and economic diversity)\n",
    "- Commute\n",
    "- Crime and Safety (based on violent and property crime rates)\n",
    "\n",
    "I have used the <b><i>K</i>-means clustering</b> algorithm as part of this cluster modeling. To get the optimal value of the $k$, I used the <b>Elbow Method</b> and set the optimum $k$ value to <b>6</b>.\n",
    "\n",
    "I have assigned name to the $6$ clusters depending on the characteristics and different venues of each cluster as follows: \n",
    "1. Cluster-0: <b>offices and automotive shops</b> \n",
    "- Cluster-1: <b>Multiple Venues - residential buildings, college and academic buildings, Salon, office, bank, restaurants, park, salon</b>       \n",
    "- Cluster-2: <b>Government buildings</b>\n",
    "- Cluster-3: <b>Doctor's and dentist's place</b> \n",
    "- Cluster-4: <b>Zoo exhibit</b> \n",
    "- Cluster-5: <b>Automotive shops</b>\n",
    "\n",
    "I have selected <b>Cluster-0</b>, <b>Cluster-1</b>, and <b>Cluster-3</b> for further analysis. I have performed explanatory data analysis and derived relevant information about each neighborhood as given below:  \n",
    "- Number of neighborhoods in Cluster-0, Cluster-1, Cluster-3 are $20$, $47$, and $9$ respectively.\n",
    "- Total number of restaurants in Cluster-0, Cluster-1, Cluster-3 are $97$, $304$, and $50$ respectively.\n",
    "- Number of unique restaurants category in Cluster-0, Cluster-1, Cluster-3 are $22$, $33$, and $15$ respectively \n",
    "- Number of neighborhoods with no Italian restaurants in Cluster-0, Cluster-1, Cluster-3 are $13$, $31$, and $7$ respectively. \n",
    "\n",
    "Then, I have selected <b>4</b> neighborhoods from <b>Cluster-0</b>, <b>14</b> neighborhoods from <b>Cluster-1</b> and <b>4</b> neighborhoods from <b>Cluster-3</b> having restaurants of 4 or more different categories, but have no Italian retaurants.\n",
    "\n",
    "Also, I have imported <b>demographical</b> dataset and performed basic <b>exploratory data analysis</b> to get the <b>demographical information</b> such as <b>Population</b>, <b>Median Home Value</b>, <b>Median Rent</b>, <b>Median Household Income</b>, <b>Diversity</b>, <b>Cost of Living</b>, <b>Commute</b>, <b>Parking</b>, <b>Walkable to Restaurants</b>, and <b>Crime and Safety</b> of these selected neighborhoods. Then, I have merged <b>demographical</b> data to the <b>neighborhoods-venues</b> data to get the final dataframe.\n",
    "\n",
    "I have chosen following <b>8</b> neighborhoods based on above analysis: \n",
    "1. <b>Clairemont</b> \n",
    "2. <b>Mira Mesa</b>\n",
    "3. <b>Tierrasanta</b> \n",
    "4. <b>Rancho Penasquitos</b>\n",
    "5. <b>Linda Vista</b> \n",
    "6. <b>Mission Valley East</b> \n",
    "7. <b>Serra Mesa</b> \n",
    "8. <b>Mission Valley West</b>\n",
    "\n",
    "Finally, I have ended the study by visualizing the map of San Diego with the selected top <b>8</b> neighborhoods along with their demographic overall rating superimposed on top."
   ]
  },
  {
   "cell_type": "markdown",
   "metadata": {},
   "source": [
    "## 7. Conclusion"
   ]
  },
  {
   "cell_type": "markdown",
   "metadata": {},
   "source": [
    "Objective of this project was to discover a few promising neighborhoods of San Diego with having no <b>Italian</b> restaurants in the vicinity so that the <b>stakeholders</b> -- more specifically, the <b>restaurant entrepreneurs</b> can select a optimal location for opening up a new <b>Italian Restaurant</b>.\n",
    "\n",
    "By using Foursquare API, basic exploratory data analysis, and <b><i>K</i>-means clustering</b> algorithm, I have first identified some neighborhoods of three selected clusters of interest. Then, I have explored these three clusters to find out the locations which satisfy some basic requirements of this project. Then, I have merged demographical information of San Diego with these chosen neighborhoods to find more precise locations for an Italian restaurant. \n",
    "\n",
    "Final decision on optimal restaurant location will be made by stakeholders based on specific characteristics and locations of these neighborhoods."
   ]
  },
  {
   "cell_type": "code",
   "execution_count": null,
   "metadata": {},
   "outputs": [],
   "source": []
  }
 ],
 "metadata": {
  "kernelspec": {
   "display_name": "Python 3",
   "language": "python",
   "name": "python3"
  },
  "language_info": {
   "codemirror_mode": {
    "name": "ipython",
    "version": 3
   },
   "file_extension": ".py",
   "mimetype": "text/x-python",
   "name": "python",
   "nbconvert_exporter": "python",
   "pygments_lexer": "ipython3",
   "version": "3.7.3"
  }
 },
 "nbformat": 4,
 "nbformat_minor": 2
}
