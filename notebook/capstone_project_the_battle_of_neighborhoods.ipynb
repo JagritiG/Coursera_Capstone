{
 "cells": [
  {
   "cell_type": "markdown",
   "metadata": {},
   "source": [
    "# Capstone Project - The Battle of Neighborhoods"
   ]
  },
  {
   "cell_type": "markdown",
   "metadata": {},
   "source": [
    "Coursera Capstone Project: <b>The Battle of Neighborhoods</b>"
   ]
  },
  {
   "cell_type": "markdown",
   "metadata": {},
   "source": [
    "## Table of contents"
   ]
  },
  {
   "cell_type": "markdown",
   "metadata": {},
   "source": [
    "- Introduction \n",
    "- Data\n",
    "- Methodology\n",
    "- Exploratory Data Analysis\n",
    "- Results\n",
    "- Discussion\n",
    "- Conclusion"
   ]
  },
  {
   "cell_type": "markdown",
   "metadata": {},
   "source": [
    "## 1. Introduction"
   ]
  },
  {
   "cell_type": "markdown",
   "metadata": {},
   "source": [
    "California's second largest city and the United States' eighth largest, San Diego boasts a citywide population of nearly 1.3 million residents and more than 3 million residents countywide. Within its borders of 4,200 sq. miles, San Diego County encompasses 18 incorporated cities and numerous other charming neighborhoods and communities, including downtown's historic Gaslamp Quarter, Little Italy, Coronado, La Jolla, Del Mar, Carlsbad, and Chula Vista just to name a few. \n",
    "\n",
    "San Diego is renowned for its idyllic climate, 70 miles of pristine beaches and a dazzling array of world-class family attractions. Popular attractions include the world-famous San Diego Zoo and San Diego Zoo Safari Park, SeaWorld San Diego and LEGOLAND California. The sunny weather makes San Diego a hot spot for vacationers of all ages from around the world. \n",
    "\n",
    "But the city is not only about tourism and beach holidays. Thanks to the spirit of collaboration, plenty of qualified employees, and favorable conditions for entrepreneurship, San Diego is a good city to start a business. \n",
    "\n",
    "The economy of the San Diego county region is going strong. San Diego, having GDP of over $250 million, made it to the top 20 major cities in the United States.\n",
    "\n",
    "Being so attractive economically and geographically, San Diego draws in people like a magnet. Business owners often consider San Diego city as a good destination for moving and expanding their business because of housing and low cost of doing business as compared to Los Angeles and San Francisco areas. Also, its year-around good weather tremendously helps small businessess that rely on foot traffic.\n",
    "\n",
    "As a resident of this city, I decided to use San Diego in my project."
   ]
  },
  {
   "cell_type": "markdown",
   "metadata": {},
   "source": [
    "### 1.1 Business Problem"
   ]
  },
  {
   "cell_type": "markdown",
   "metadata": {},
   "source": [
    "As <b>San Diego</b> receives people from all around the world, and people love to try new food, we will try to find an adequate location for opening up an <b><i>Italian Restaurant</i></b> in <b>San Diego</b>. Finding a proper location for a restaurant is crucial for business success. Hence, to select the right location for the restaurant, we will consider following elements:\n",
    "\n",
    "1. <b>Know the neighborhood</b>, specifically, who else is doing business in the neighborhood \n",
    "- <b>Find a place which is not crowded with similar restaurants in vicinity</b>\n",
    "- <b>Accessibility and visibility</b> of the location\n",
    "- <b>Population base</b> to know the foot traffic or car traffic in the area to support the business\n",
    "- <b>Parking</b> for the customers, and \n",
    "- <b>Low crime rate</b> in the area as high crime rates can make potential customers uncomfortable to visit the restaurant due to fears over public safety.\n",
    "\n",
    "Our objective is to discover <b>a few most promissing neighborhoods</b> based on above-mentioned criteria using data science skills, and present them with statistics so that the stakeholders can select the precise location for their restaurant."
   ]
  },
  {
   "cell_type": "markdown",
   "metadata": {},
   "source": [
    "### 1.2 Interest"
   ]
  },
  {
   "cell_type": "markdown",
   "metadata": {},
   "source": [
    "Our target stakeholders are the <b>restaurant entrepreneurs</b> who would be interested in starting a restaurant in San Diego, California."
   ]
  },
  {
   "cell_type": "markdown",
   "metadata": {},
   "source": [
    "## 2. Data"
   ]
  },
  {
   "cell_type": "markdown",
   "metadata": {},
   "source": [
    "To address the problem, we can list the required datas as below:\n",
    "1. I have scraped San Diego neighborhoods data from wikipedia (https://en.wikipedia.org/wiki/Template:Neighborhoods_of_San_Diego) uisng '<b>BeautifulSoup</b>' library and processed the data in order to use this in this project.\n",
    "- Python <b>geopy</b> library is used to obtain the <b>geographical coordinates of San Diego</b> and other addresses of interest.\n",
    "-  <b>Forsquare API</b> is used to get the most common <b>venues of given Neighborhoods of San Diego</b>.\n",
    "- I have collected some demographical information as well as property facts data such as <b>Population</b>, <b>Median Home Value</b>, <b>Median Rent</b>, <b>Median Household Income</b>, <b>Diversity</b>, <b>Cost of Living</b>, <b>Commute</b>, <b>Parking</b>, <b>Walkable to Restaurants</b>, and <b>Crime and Safety</b> for each location of interest from below links:\n",
    "    - https://www.niche.com/places-to-live/c/san-diego-county-ca/\n",
    "    - https://www.trulia.com/CA/San_Diego/"
   ]
  },
  {
   "cell_type": "markdown",
   "metadata": {},
   "source": [
    "## 3. Methodology"
   ]
  },
  {
   "cell_type": "markdown",
   "metadata": {},
   "source": [
    "I have used\n",
    "- python <b>geopy</b> library to obtain the <b>geographical coordinates of San Diego</b>.\n",
    "- the <b>Foursquare API</b> to segement and explore the neighborhoods as well as the latitude and logitude coordinates of each neighborhood. For this, I have set the limit as 100 and the radius 1000 meter for each neighborhood from their given latitude and longitude informations. \n",
    "- the <b>Folium</b> library to visualize the neighborhoods in San Diego with neighborhoods superimposed on top.\n",
    "- the <b>explore</b> function to get the most common venue categories in each neighborhood and then used this feature to group the neighborhoods into clusters with the help of <b><i>K</i>-means clustering</b> algorithm. \n",
    "- the <b>Folium</b> library to visualize the neighborhoods in San Diego and their emerging clusters.\n",
    "- the demographical as well as property facts data about San Diego neigborhoods to rate them based on these data, and merge them with related clusters of neighborhoods.\n",
    "- the <b>Folium</b> library to visualize final selected locations for opening up a restaurant based on the criteria mentioned in the section-1.1."
   ]
  },
  {
   "cell_type": "markdown",
   "metadata": {},
   "source": [
    "## 4. Exploratory Data Analysis"
   ]
  },
  {
   "cell_type": "markdown",
   "metadata": {},
   "source": [
    "### A. Import required libraries"
   ]
  },
  {
   "cell_type": "code",
   "execution_count": null,
   "metadata": {},
   "outputs": [],
   "source": [
    "# Import required libraries\n",
    "import numpy as np\n",
    "import pandas as pd\n",
    "import json\n",
    "import requests\n",
    "import matplotlib.cm as cm\n",
    "import matplotlib.colors as colors\n",
    "from matplotlib.ticker import FuncFormatter\n",
    "from pprint import pprint\n",
    "import matplotlib.pyplot as plt\n",
    "%matplotlib inline\n",
    "\n",
    "\n",
    "from sklearn.cluster import KMeans # machine learning library\n",
    "import folium # map rendering library\n",
    "from geopy.geocoders import Nominatim  # convert an address into latitude and longitude values\n",
    "\n",
    "print(\"Libraries imported.\")\n",
    "\n",
    "pd.set_option('display.max_columns', None)\n",
    "pd.set_option('display.max_rows', None)"
   ]
  },
  {
   "cell_type": "markdown",
   "metadata": {},
   "source": [
    "### B. Import and explore Dataset"
   ]
  },
  {
   "cell_type": "markdown",
   "metadata": {},
   "source": [
    "#### Load the data"
   ]
  },
  {
   "cell_type": "markdown",
   "metadata": {},
   "source": [
    "In order to segement the neighborhoods and explore them, we will essentially need a dataset containing neighborhoods in San Diego as well as the latitude and logitude coordinates of each neighborhood."
   ]
  },
  {
   "cell_type": "code",
   "execution_count": null,
   "metadata": {},
   "outputs": [],
   "source": [
    "# Inport the dataset into pandas dataframe\n",
    "sd_df = pd.read_csv(\"../data/sd_neighborhoods.csv\", engine='python')\n",
    "sd_df.head()"
   ]
  },
  {
   "cell_type": "code",
   "execution_count": null,
   "metadata": {},
   "outputs": [],
   "source": [
    "# create a new dataframe with related data\n",
    "sd_neighborhoods = sd_df[['Neighborhoods', 'Latitude', 'Longitude']]\n",
    "sd_neighborhoods.head()"
   ]
  },
  {
   "cell_type": "markdown",
   "metadata": {},
   "source": [
    "#### Data Pre-processing"
   ]
  },
  {
   "cell_type": "markdown",
   "metadata": {},
   "source": [
    "Check if dataset has any missing value."
   ]
  },
  {
   "cell_type": "code",
   "execution_count": null,
   "metadata": {},
   "outputs": [],
   "source": [
    "# Get the info\n",
    "sd_neighborhoods.info()"
   ]
  },
  {
   "cell_type": "markdown",
   "metadata": {},
   "source": [
    "We can observe that the column <b>Latitude</b> and <b>Longitude</b> have <b>$14$</b> missing values."
   ]
  },
  {
   "cell_type": "code",
   "execution_count": null,
   "metadata": {},
   "outputs": [],
   "source": [
    "# Handling the missing value\n",
    "# drop rows with missing values\n",
    "sd_neighborhoods.dropna(axis=0, how ='any')\n",
    "sd_neighborhoods.info()"
   ]
  },
  {
   "cell_type": "code",
   "execution_count": null,
   "metadata": {},
   "outputs": [],
   "source": [
    "# Get the number of neighborhoods\n",
    "print(\"Number of neighborhoods: {}\".format(len(sd_neighborhoods['Neighborhoods'].unique())))"
   ]
  },
  {
   "cell_type": "markdown",
   "metadata": {},
   "source": [
    "#### Create a map of San Diego with neighborhoods superimposed on top"
   ]
  },
  {
   "cell_type": "markdown",
   "metadata": {},
   "source": [
    "We have used <b>geopy</b> library to get the latitude and longitude values of <b>San Diego</b> City. Then, we have created map of <b>San Diego</b> using latitude and longitude values with <b>neighborhoods</b> superimposed on top."
   ]
  },
  {
   "cell_type": "code",
   "execution_count": null,
   "metadata": {},
   "outputs": [],
   "source": [
    "# get the latitude and longitude values of San Diego\n",
    "address = 'San Diego, CA'\n",
    "\n",
    "# define an instance of the geocoder\n",
    "geolocator = Nominatim(user_agent='sd')\n",
    "location = geolocator.geocode(address)\n",
    "latitude = location.latitude\n",
    "longitude = location.longitude\n",
    "\n",
    "print(\"The geographical coordinates of San Diego are: {}, {}.\".format(latitude, longitude))"
   ]
  },
  {
   "cell_type": "code",
   "execution_count": null,
   "metadata": {},
   "outputs": [],
   "source": [
    "# create map of San Diego using latitude and longitude values\n",
    "sd_map = folium.Map(location=[latitude, longitude], zoom_start=11)\n",
    "\n",
    "# add markers to map\n",
    "for lat, lng, neighborhood in zip(sd_neighborhoods['Latitude'], sd_neighborhoods['Longitude'], sd_neighborhoods['Neighborhoods']):\n",
    "    label = '{}'.format(neighborhood)\n",
    "    label = folium.Popup(label, parse_html=True)\n",
    "    folium.CircleMarker(\n",
    "        [lat, lng],\n",
    "        radius=5,\n",
    "        popup=label,\n",
    "        color='blue',\n",
    "        fill=True,\n",
    "        fill_color='#3186cc',\n",
    "        fill_opacity=0.7,\n",
    "        parse_html=False\n",
    "    ).add_to(sd_map)\n",
    "\n",
    "# display the map\n",
    "sd_map"
   ]
  },
  {
   "cell_type": "code",
   "execution_count": null,
   "metadata": {},
   "outputs": [],
   "source": [
    "# fig.write_image(\"../images/fig1.png\")"
   ]
  },
  {
   "cell_type": "code",
   "execution_count": null,
   "metadata": {},
   "outputs": [],
   "source": [
    "import matplotlib.image as mpimg\n",
    "image = mpimg.imread(\"../images/fig1_sd_map.png\")\n",
    "plt.imshow(image)\n",
    "plt.show()"
   ]
  },
  {
   "cell_type": "code",
   "execution_count": null,
   "metadata": {},
   "outputs": [],
   "source": []
  },
  {
   "cell_type": "markdown",
   "metadata": {},
   "source": [
    "### C. Explore Neighborhoods in San Diego"
   ]
  },
  {
   "cell_type": "markdown",
   "metadata": {},
   "source": [
    "I have used the <b>Foursquare API</b> to explore the neighborhoods and segment them. I set the limit as 100 venue and the radius 1000 meter for each neighborhood from their given latitude and longitude value. We have written two functions - <b>get_category</B>() to extract the category of the venue, and <b>get_nearby_venues</b>() to get all the nearby venues in the neighborhoods. Then, we have converted relevant data into a pandas dataframe containing \n",
    "columns - <b>Neighborhood</b>, <b>Neighborhood_Lat</b>, <b>Neighborhood_Lng</b>, <b>Venue</b>, <b>Venue_Lat</b>, <b>Venue_Lng</b>, <b>Venue_Category</b>."
   ]
  },
  {
   "cell_type": "markdown",
   "metadata": {},
   "source": [
    "##### Define Foursquare Credentials and Version"
   ]
  },
  {
   "cell_type": "code",
   "execution_count": null,
   "metadata": {},
   "outputs": [],
   "source": [
    "# Define Foursquare Credentials and Version\n",
    "\n",
    "limit = 100\n",
    "\n",
    "# Print Credentials\n",
    "# print('Foursquare Credentials:')\n",
    "# print('CLIENT_ID: ', client_id)\n",
    "# print('CLIENT_SECRET: ', client_secret)"
   ]
  },
  {
   "cell_type": "code",
   "execution_count": null,
   "metadata": {},
   "outputs": [],
   "source": [
    "# function that extracts the category of the venue\n",
    "def get_category(row):\n",
    "    try:\n",
    "        categories_list = row['categories']\n",
    "    except:\n",
    "        categories_list = row['venue.categories']\n",
    "    \n",
    "    if len(categories_list) == 0:\n",
    "        return None\n",
    "    else:\n",
    "        return categories_list[0]['name']"
   ]
  },
  {
   "cell_type": "code",
   "execution_count": null,
   "metadata": {},
   "outputs": [],
   "source": [
    "# function to get all the nearby venues in the neighborhoods in San Diego\n",
    "def get_nearby_venues(names, latitudes, longitudes, radius=1000):\n",
    "    \n",
    "    venues_list = []\n",
    "    for name, lat, lng in zip(names, latitudes, longitudes):\n",
    "        # print(name)\n",
    "        \n",
    "        # create the API request URL \n",
    "        url = 'https://api.foursquare.com/v2/venues/search?client_id={}&client_secret={}&ll={},{}&v={}&radius={}&limit={}'.format(\n",
    "            client_id, \n",
    "            client_secret, \n",
    "            lat, \n",
    "            lng, \n",
    "            version, \n",
    "            radius, \n",
    "            limit)\n",
    "        \n",
    "        # make the GET request\n",
    "        venues = requests.get(url).json()['response']['venues']\n",
    "        \n",
    "        # return only relevant information for each nearby venue\n",
    "        venues_list.append([(\n",
    "            name,\n",
    "            lat,\n",
    "            lng,\n",
    "            v['name'],\n",
    "            v['location']['lat'],\n",
    "            v['location']['lng'],\n",
    "            v['categories']) for v in venues])\n",
    "        \n",
    "    \n",
    "    nearby_venues = pd.DataFrame([item for venue_list in venues_list for item in venue_list])\n",
    "    nearby_venues.columns = ['Neighborhoods',\n",
    "                            'Neighborhood_Lat',\n",
    "                            'Neighborhood_Lng',\n",
    "                             'Venue',\n",
    "                             'Venue_Lat',\n",
    "                             'Venue_Lng',\n",
    "                             'Venue_Category']\n",
    "    \n",
    "    # call helper function venue_category() to filter the category for each row (axis=1)\n",
    "    nearby_venues['Venue_Category'] = nearby_venues.apply(venue_category, axis=1)\n",
    "    return nearby_venues\n",
    "\n",
    "# function that extracts the category of the venue\n",
    "def venue_category(row):\n",
    "    \n",
    "    categories_list = row['Venue_Category']\n",
    "    if len(categories_list) == 0:\n",
    "        return None\n",
    "    else:\n",
    "        return categories_list[0]['name']"
   ]
  },
  {
   "cell_type": "markdown",
   "metadata": {},
   "source": [
    "Call the function <b>get_nearby_venues()</b> to get all the nearby venues in each neighborhood in San Diego"
   ]
  },
  {
   "cell_type": "code",
   "execution_count": null,
   "metadata": {},
   "outputs": [],
   "source": [
    "# call the function get_nearby_venues() to get all the nearby venues in San Diego Neighborhoods\n",
    "venues_in_sd = get_nearby_venues(names=sd_neighborhoods['Neighborhoods'],\n",
    "                                   latitudes=sd_neighborhoods['Latitude'],\n",
    "                                   longitudes=sd_neighborhoods['Longitude']\n",
    "                                  )\n",
    "\n",
    "# Display the dataframe\n",
    "venues_in_sd.head()"
   ]
  },
  {
   "cell_type": "markdown",
   "metadata": {},
   "source": [
    "Let's get the total number of venues returned by Foursquare."
   ]
  },
  {
   "cell_type": "code",
   "execution_count": null,
   "metadata": {},
   "outputs": [],
   "source": [
    "print('Total {} venues ere returned by Foursquare.'.format(venues_in_sd.shape[0]))"
   ]
  },
  {
   "cell_type": "markdown",
   "metadata": {},
   "source": [
    "Let's get the number of venues returned for each neighborhood and plot a barchart with the result."
   ]
  },
  {
   "cell_type": "code",
   "execution_count": null,
   "metadata": {},
   "outputs": [],
   "source": [
    "# get the number of venues returned for each neighborhood and plot it\n",
    "venues_by_neighborhoods = venues_in_sd['Neighborhoods'].value_counts().rename_axis('Neighborhoods').reset_index(name='Venue Counts')\n",
    "print(venues_by_neighborhoods.head())\n",
    "print('')\n",
    "print(venues_by_neighborhoods.tail())"
   ]
  },
  {
   "cell_type": "code",
   "execution_count": null,
   "metadata": {},
   "outputs": [],
   "source": [
    "# Plot the barcharts - 1. with top 20 neighborhoods with highest number of venues, and\n",
    "# 2. with bottom 20 neighborhoods with least number of venues\n",
    "font_param = {'size': 16, 'fontweight': 'semibold',\n",
    "              'family': 'serif', 'style': 'normal'}\n",
    "\n",
    "plt.style.use('seaborn-whitegrid')\n",
    "\n",
    "fig, ax = plt.subplots(figsize=(20, 10))\n",
    "plt.bar(venues_by_neighborhoods['Neighborhoods'], height=venues_by_neighborhoods['Venue Counts'], align='center', color='royalblue')\n",
    "ax.tick_params(axis='x', rotation=90)\n",
    "plt.title('Number of venues in each Neighborhood', font_param, fontsize=20)\n",
    "plt.xlabel('Neighborhoods in San Diego', font_param)\n",
    "plt.ylabel('Number of Venues', font_param)\n",
    "\n",
    "plt.grid(False)\n",
    "plt.tight_layout()\n",
    "\n",
    "# display plot\n",
    "plt.show()"
   ]
  },
  {
   "cell_type": "markdown",
   "metadata": {},
   "source": [
    "In the above barplot, we can see that <b>Midway</b>, <b>Kearny Mesa</b>, <b>Serra Mesa</b>, <b>Mira Mesa</b>, <b>Miramar</b>, <b>Torrey Pines</b>, <b>Hillcrest</b>, <b>Village of La Jolla</b>, and many other neighborhoods have reached the <b>100</b> limit of venues. On the other hand, <b>Burlingame</b> and <b>Core</b> have less than <b>50</b> venues. "
   ]
  },
  {
   "cell_type": "code",
   "execution_count": null,
   "metadata": {},
   "outputs": [],
   "source": [
    "# Get the number of unique venue category\n",
    "print(\"{} unique venue category.\".format(len(venues_in_sd['Venue_Category'].unique())))"
   ]
  },
  {
   "cell_type": "markdown",
   "metadata": {},
   "source": [
    "### D. Analyze Each Neighborhood"
   ]
  },
  {
   "cell_type": "markdown",
   "metadata": {},
   "source": [
    "In this project, <b>we have selected all the neighborhoods that have $100$ or more venues</b> for further analysis. Let's create a new dataframe with selected neighborhoods and get the list of <b>top 10 venue category</B> for each selected neighborhood."
   ]
  },
  {
   "cell_type": "code",
   "execution_count": null,
   "metadata": {},
   "outputs": [],
   "source": [
    "sd_venues_100 = venues_by_neighborhoods[venues_by_neighborhoods['Venue Counts']==100]\n",
    "\n",
    "# display the dataframe\n",
    "print(sd_venues_100.head(3))\n",
    "print('')\n",
    "print(sd_venues_100.head(3))"
   ]
  },
  {
   "cell_type": "code",
   "execution_count": null,
   "metadata": {},
   "outputs": [],
   "source": [
    "# get the number of neighborhoods having 100 or more venues\n",
    "print(\"The number of neighborhoods having 100 or more venues: {}\".format(len(sd_venues_100['Neighborhoods'])))"
   ]
  },
  {
   "cell_type": "code",
   "execution_count": null,
   "metadata": {},
   "outputs": [],
   "source": [
    "# let's create new dataframe with the neighborhoods that have 100 or more venues\n",
    "sd_venues = venues_in_sd[venues_in_sd['Neighborhoods'].isin(sd_venues_100['Neighborhoods'])]\n",
    "sd_venues.head()"
   ]
  },
  {
   "cell_type": "code",
   "execution_count": null,
   "metadata": {},
   "outputs": [],
   "source": [
    "# get the shape of new dataframe\n",
    "sd_venues.shape"
   ]
  },
  {
   "cell_type": "code",
   "execution_count": null,
   "metadata": {},
   "outputs": [],
   "source": [
    "# get the unique venue gategoris\n",
    "print(\"No of unique venues: {}\".format(len(sd_venues['Venue_Category'].unique())))"
   ]
  },
  {
   "cell_type": "code",
   "execution_count": null,
   "metadata": {},
   "outputs": [],
   "source": [
    "# one hot encoding\n",
    "sd_onehot = pd.get_dummies(sd_venues[['Venue_Category']], prefix=\"\", prefix_sep=\"\")\n",
    "\n",
    "# add neighborhood column back to dataframe\n",
    "sd_onehot['Neighborhoods'] = sd_venues['Neighborhoods']\n",
    "\n",
    "# move neighborhood column to the first column\n",
    "fixed_columns = [sd_onehot.columns[-1]] + list(sd_onehot.columns[:-1])\n",
    "sd_onehot = sd_onehot[fixed_columns]\n",
    "\n",
    "sd_onehot.head()"
   ]
  },
  {
   "cell_type": "code",
   "execution_count": null,
   "metadata": {},
   "outputs": [],
   "source": [
    "# Get the size of new dataframe\n",
    "sd_onehot.shape"
   ]
  },
  {
   "cell_type": "code",
   "execution_count": null,
   "metadata": {},
   "outputs": [],
   "source": [
    "# Let's group rows by neighborhood and by taking the mean of the frequency of occurrence of each category\n",
    "sd_grouped = sd_onehot.groupby('Neighborhoods').mean().reset_index()\n",
    "sd_grouped.head(10)"
   ]
  },
  {
   "cell_type": "code",
   "execution_count": null,
   "metadata": {},
   "outputs": [],
   "source": [
    "# print each neighborhood along with the top 5 most common venues\n",
    "num_top_venues = 5\n",
    "\n",
    "for hood in sd_grouped['Neighborhoods']:\n",
    "    print(hood)\n",
    "    print(\"-------------------------------------------------\")\n",
    "    temp = sd_grouped[sd_grouped['Neighborhoods'] == hood].T.reset_index()\n",
    "    temp.columns = ['venue','freq']\n",
    "    temp = temp.iloc[1:]\n",
    "    temp['freq'] = temp['freq'].astype(float)\n",
    "    temp = temp.round({'freq': 2})\n",
    "    \n",
    "    print(temp.sort_values('freq', ascending=False).reset_index(drop=True).head(num_top_venues))\n",
    "    print('\\n')"
   ]
  },
  {
   "cell_type": "code",
   "execution_count": null,
   "metadata": {},
   "outputs": [],
   "source": [
    "# first, let's write a function to sort the venues in descending order\n",
    "def get_popular_venues(row, num_top_venues):\n",
    "    row_categories = row.iloc[1:]\n",
    "    row_categories_sorted = row_categories.sort_values(ascending=False)\n",
    "    \n",
    "    return row_categories_sorted.index.values[0:num_top_venues]"
   ]
  },
  {
   "cell_type": "code",
   "execution_count": null,
   "metadata": {
    "scrolled": true
   },
   "outputs": [],
   "source": [
    "# create the new dataframe and display the top 10 venues for each neighborhood\n",
    "num_top_venues = 10\n",
    "\n",
    "indicators = ['st', 'nd', 'rd']\n",
    "\n",
    "# create columns according to number of top venues\n",
    "columns = ['Neighborhoods']\n",
    "for idx in np.arange(num_top_venues):\n",
    "    try:\n",
    "        columns.append('{}{} Most Common Venue'.format(idx+1, indicators[idx]))\n",
    "    except:\n",
    "        columns.append('{}th Most Common Venue'.format(idx+1))\n",
    "\n",
    "# create a new dataframe\n",
    "neighborhoods_venues_sorted = pd.DataFrame(columns=columns)\n",
    "neighborhoods_venues_sorted['Neighborhoods'] = sd_grouped['Neighborhoods']\n",
    "\n",
    "# fill with value\n",
    "for idx in np.arange(sd_grouped.shape[0]):\n",
    "    neighborhoods_venues_sorted.iloc[idx, 1:] = get_popular_venues(sd_grouped.iloc[idx, :], num_top_venues)\n",
    "\n",
    "neighborhoods_venues_sorted.head()"
   ]
  },
  {
   "cell_type": "markdown",
   "metadata": {},
   "source": [
    "In the above dataframe, we can see that there are some <i>common venue categories</i> in neighborhoods. We will categorize neighborhoods into $k$ groups of similarity based on these common venue categories. For this, I have chosen <b><i>K</i>-means clustering</b> algorithm, an unsupervised learning algorithm, to cluster the neighborhood into $k$ clusters, where $k$ is the optimal number of clusters.\n",
    "\n",
    "<b><i>K</i>-means clustering</b> is a method of vector quantization, that aims to partition $n$ observations into $k$ clusters in which each observation belongs to the cluster with the nearest mean (cluster centers or cluster centroid), serving as a prototype of the cluster."
   ]
  },
  {
   "cell_type": "markdown",
   "metadata": {},
   "source": [
    "### Cluster Neighborhoods using <i>K</i>-means"
   ]
  },
  {
   "cell_type": "markdown",
   "metadata": {},
   "source": [
    "To perform the <b><i>K</i>-means clustering</b>, first, we have to determine the optimal number of clusters. In order to determine the optimal number of clusters $k$, I have used following methods:\n",
    "- <b>Elbow method</b> which gives the value of $k$ such that the total <b>within-cluster variation (or error) is minimum</b>. This method calculates the <i>Within-Cluster-Sum of Squared Errors</i> (<b>WSS</b>) for different values of $k$, and choose the $k$ for which <b>WSS</b> becomes first starts to diminish.\n",
    "- <b>Silhouette Method</b> which measures how similar a point is to its own cluster (cohesion) compared to other clusters (separation). Also it shows the optimal number of clusters.\n",
    "- Simply setting the number of clusters as <b>square root of the number of data points divided by two</b>, as sometimes the number of clusters can also depend on specific problem.\n",
    "\n",
    "After analysing above-mentioned three methods, I have set the <b>number of clusters</b> to $5$ ($k=5$)."
   ]
  },
  {
   "cell_type": "code",
   "execution_count": null,
   "metadata": {
    "scrolled": true
   },
   "outputs": [],
   "source": [
    "# # drop the column 'Neighborhood'\n",
    "# cluster_data = sd_grouped.drop('Neighborhoods', 1)\n",
    "\n",
    "# wcss = []\n",
    "# for i in range(1, 15):\n",
    "#     kmeans = KMeans(n_clusters=i, max_iter=500)\n",
    "#     kmeans.fit(cluster_data)\n",
    "#     wcss.append(kmeans.inertia_)\n",
    "# plt.plot(range(1, 15), wcss)\n",
    "# plt.title('Elbow Method')\n",
    "# plt.xlabel('Number of clusters')\n",
    "# plt.ylabel('WCSS')\n",
    "# plt.show()"
   ]
  },
  {
   "cell_type": "code",
   "execution_count": null,
   "metadata": {},
   "outputs": [],
   "source": [
    "# from sklearn.metrics import silhouette_score\n",
    "\n",
    "# # drop the column 'Neighborhood'\n",
    "# cluster_data = sd_grouped.drop('Neighborhoods', 1)\n",
    "# cluster_data.reset_index(inplace=True)\n",
    "# x = cluster_data[cluster_data.columns[1:]].values\n",
    "\n",
    "# sil = []\n",
    "# kmax = 10\n",
    "\n",
    "# # dissimilarity would not be defined for a single cluster, thus, minimum number of clusters should be 2\n",
    "# for k in range(2, kmax+1):\n",
    "#     kmeans = KMeans(n_clusters = k).fit(x)\n",
    "#     labels = kmeans.labels_\n",
    "#     sil.append(silhouette_score(x, labels, metric = 'euclidean'))\n",
    "\n",
    "# plt.plot(range(2, 11), sil)\n",
    "# plt.title('Silhouette Method')\n",
    "# plt.xlabel('Number of clusters')\n",
    "# plt.ylabel('Silhouette Score')\n",
    "# plt.show()"
   ]
  },
  {
   "cell_type": "markdown",
   "metadata": {},
   "source": [
    "### Modeling"
   ]
  },
  {
   "cell_type": "code",
   "execution_count": null,
   "metadata": {},
   "outputs": [],
   "source": [
    "# set number of clusters\n",
    "k = 5\n",
    "\n",
    "# drop the column 'Neighborhood'\n",
    "sd_cluster = sd_grouped.drop('Neighborhoods', 1)\n",
    "\n",
    "# Initialize and fit the model\n",
    "kmeans = KMeans(n_clusters=k, random_state=0).fit(sd_cluster)\n",
    "\n",
    "# check cluster labels generated for each row in the dataframe\n",
    "labels = kmeans.labels_\n",
    "\n",
    "print(labels)"
   ]
  },
  {
   "cell_type": "markdown",
   "metadata": {},
   "source": [
    "Let's create a new dataframe that includes the <b>cluster labels</b> as well as the <b>top 10 venues</b> for each neighborhood."
   ]
  },
  {
   "cell_type": "code",
   "execution_count": null,
   "metadata": {},
   "outputs": [],
   "source": [
    "# add clustering labels\n",
    "neighborhoods_venues_sorted.insert(0, 'Cluster Labels', kmeans.labels_)\n",
    "sd_merged = sd_neighborhoods[sd_neighborhoods['Neighborhoods'].isin(sd_venues_100['Neighborhoods'])]\n",
    "\n",
    "# merge sd_grouped with sd_neighborhoods to add latitude/longitude for each neighborhood\n",
    "sd_merged = sd_merged.join(neighborhoods_venues_sorted.set_index('Neighborhoods'), on='Neighborhoods')\n",
    "print(list(sd_merged['Neighborhoods']))\n",
    "sd_merged.head()"
   ]
  },
  {
   "cell_type": "markdown",
   "metadata": {},
   "source": [
    "Now, let's visualize the resulting clusters."
   ]
  },
  {
   "cell_type": "code",
   "execution_count": null,
   "metadata": {},
   "outputs": [],
   "source": [
    "# create map\n",
    "map_clusters = folium.Map(location=[latitude, longitude], zoom_start=11)\n",
    "\n",
    "# set color scheme for the clusters\n",
    "x = np.arange(k)\n",
    "ys = [i + x + (i*x)**2 for i in range(k)]\n",
    "colors_array = cm.rainbow(np.linspace(0, 1, len(ys)))\n",
    "rainbow = [colors.rgb2hex(i) for i in colors_array]\n",
    "\n",
    "# add markers to the map\n",
    "markers_colors = []\n",
    "for lat, lon, poi, cluster in zip(sd_merged['Latitude'], sd_merged['Longitude'], sd_merged['Neighborhoods'], sd_merged['Cluster Labels']):\n",
    "    label = folium.Popup(str(poi) + ' Cluster ' + str(cluster), parse_html=True)\n",
    "    folium.CircleMarker(\n",
    "        [lat, lon],\n",
    "        radius=5,\n",
    "        popup=label,\n",
    "        color=rainbow[cluster-1],\n",
    "        fill=True,\n",
    "        fill_color=rainbow[cluster-1],\n",
    "        fill_opacity=0.7).add_to(map_clusters)\n",
    "\n",
    "# show map\n",
    "map_clusters"
   ]
  },
  {
   "cell_type": "markdown",
   "metadata": {},
   "source": [
    "### E. Explore Clusters"
   ]
  },
  {
   "cell_type": "markdown",
   "metadata": {},
   "source": [
    "Let's explore each cluster with the top 10 common venues."
   ]
  },
  {
   "cell_type": "markdown",
   "metadata": {},
   "source": [
    "#### Cluster-0"
   ]
  },
  {
   "cell_type": "code",
   "execution_count": null,
   "metadata": {},
   "outputs": [],
   "source": [
    "cluster0 = sd_merged.loc[sd_merged['Cluster Labels'] == 0, sd_merged.columns[[0] + list(range(4, sd_merged.shape[1]))]].reset_index(drop=True)\n",
    "print(cluster0.shape)\n",
    "cluster0.head()"
   ]
  },
  {
   "cell_type": "markdown",
   "metadata": {},
   "source": [
    "#### Cluster-1"
   ]
  },
  {
   "cell_type": "code",
   "execution_count": null,
   "metadata": {},
   "outputs": [],
   "source": [
    "cluster1 = sd_merged.loc[sd_merged['Cluster Labels'] == 1, sd_merged.columns[[0] + list(range(4, sd_merged.shape[1]))]].reset_index(drop=True)\n",
    "print(cluster1.shape)\n",
    "cluster1.head(2)"
   ]
  },
  {
   "cell_type": "markdown",
   "metadata": {},
   "source": [
    "#### Cluster-2"
   ]
  },
  {
   "cell_type": "code",
   "execution_count": null,
   "metadata": {},
   "outputs": [],
   "source": [
    "cluster2 = sd_merged.loc[sd_merged['Cluster Labels'] == 2, sd_merged.columns[[0] + list(range(4, sd_merged.shape[1]))]].reset_index(drop=True)\n",
    "print(cluster2.shape)\n",
    "cluster2.head(2)"
   ]
  },
  {
   "cell_type": "markdown",
   "metadata": {},
   "source": [
    "#### Cluster-3"
   ]
  },
  {
   "cell_type": "code",
   "execution_count": null,
   "metadata": {},
   "outputs": [],
   "source": [
    "cluster3 = sd_merged.loc[sd_merged['Cluster Labels'] == 3, sd_merged.columns[[0] + list(range(4, sd_merged.shape[1]))]].reset_index(drop=True)\n",
    "print(cluster3.shape)\n",
    "cluster3.head(2)"
   ]
  },
  {
   "cell_type": "markdown",
   "metadata": {},
   "source": [
    "#### Cluster-4"
   ]
  },
  {
   "cell_type": "code",
   "execution_count": null,
   "metadata": {},
   "outputs": [],
   "source": [
    "cluster4 = sd_merged.loc[sd_merged['Cluster Labels'] == 4, sd_merged.columns[[0] + list(range(4, sd_merged.shape[1]))]].reset_index(drop=True)\n",
    "print(cluster4.shape)\n",
    "cluster4.head(2)"
   ]
  },
  {
   "cell_type": "markdown",
   "metadata": {},
   "source": [
    "Let's estimate the number of <b>1st Most Common Venue</b> in each cluster and create a barchart. Based on barchart, we will assign a name to each cluster."
   ]
  },
  {
   "cell_type": "code",
   "execution_count": null,
   "metadata": {},
   "outputs": [],
   "source": [
    "# create a new dataframe containing Cluster Labels, 1st Most Common Venue, Counts\n",
    "common_vaneus_cluster = sd_merged.groupby('Cluster Labels')['1st Most Common Venue'].value_counts().reset_index(name='Counts')\n",
    "common_vaneus_cluster.head()"
   ]
  },
  {
   "cell_type": "code",
   "execution_count": null,
   "metadata": {},
   "outputs": [],
   "source": [
    "# plot the group bar chart\n",
    "import plotly.express as px \n",
    "\n",
    "fig = px.bar(common_vaneus_cluster, x=\"Cluster Labels\", y=\"Counts\", \n",
    "             color=\"1st Most Common Venue\", hover_data=['1st Most Common Venue'], \n",
    "             barmode = 'group') \n",
    "\n",
    "fig.update_layout(\n",
    "    title={\n",
    "        'text': \"Number of venues in each cluster\",\n",
    "        'y':0.93,\n",
    "        'x':0.4,\n",
    "        'xanchor': 'center',\n",
    "        'yanchor': 'top'})\n",
    "# save figure\n",
    "fig.write_image(\"../images/fig1.png\")\n",
    "# fig.show()\n",
    "fig.show(renderer=\"png\")"
   ]
  },
  {
   "cell_type": "code",
   "execution_count": null,
   "metadata": {},
   "outputs": [],
   "source": [
    "image = mpimg.imread(\"../images/fig1.png\")\n",
    "plt.imshow(image)\n",
    "plt.show()"
   ]
  },
  {
   "cell_type": "markdown",
   "metadata": {},
   "source": [
    "We have <b>5 clusters</b> of neighborhoods. Let's assign name to each cluster as follows: \n",
    "1. Cluster-0: <b>Zoo exhibit</b>  \n",
    "- Cluster-1: <b>Multiple Venues - automotive shops, office, salon, doctor's place</b>       \n",
    "- Cluster-2: <b>Government buildings, offices, salon, church</b>\n",
    "- Cluster-3: <b>Multiple Venues - residential buildings, college and academic buidings, Salon, office, bank, restaurants, park, doctor's and dentist's place</b> \n",
    "- Cluster-4: <b>Collese classrooms and high school</b> \n",
    "\n",
    "In the above barchar, we have observed that <b>Cluster-1</b> and <b>Cluster-3</b> have multiple venues such as residential buildings, college and academic buidings, Salon, office, bank, restaurants and marketplace etc. In the following sections, we will perform explanatory data analysis and derive the following informations about each neighborhood of <b>Cluster-1</b> and <b>Cluster-3</b>:\n",
    "\n",
    "- All the neighborhoods in <b>Cluster-1</b> and <b>Cluster-3</b>\n",
    "- Number and category of restaurants in each Neighborhood\n",
    "- Neighbors of each restaurant\n",
    "- Population base: Foot or car traffic\n",
    "- Parking\n",
    "- Crime rate in the neighborhood\n",
    "\n",
    "All these elements are as crucial to a restaurant's success as great food and service."
   ]
  },
  {
   "cell_type": "markdown",
   "metadata": {},
   "source": [
    "### E.1 Get all the neighborhoods in Cluster-1"
   ]
  },
  {
   "cell_type": "code",
   "execution_count": null,
   "metadata": {},
   "outputs": [],
   "source": [
    "clus1_neighborhoods = cluster1['Neighborhoods']\n",
    "print(\"Number of neighborhoods in Cluster-1: {}\\n\".format(clus1_neighborhoods.shape[0]))\n",
    "\n",
    "print(\"Neighborhoods in Cluster-1:\\n\")\n",
    "print(list(clus1_neighborhoods))"
   ]
  },
  {
   "cell_type": "markdown",
   "metadata": {},
   "source": [
    "#### Get the number and category of restaurants in each Neighborhood of Cluster-1"
   ]
  },
  {
   "cell_type": "code",
   "execution_count": null,
   "metadata": {},
   "outputs": [],
   "source": [
    "# Create a new dataframe including neighborhoods of Cluster-1 and all the restaurants\n",
    "clus1_neighbors = sd_venues[sd_venues['Neighborhoods'].isin(list(clus1_neighborhoods))]\n",
    "print(clus1_neighbors.head())\n",
    "clus1_restaurants = clus1_neighbors.loc[clus1_neighbors.Venue_Category.str.contains('Restaurant', na=False)].reset_index(drop=True)\n",
    "clus1_restaurants.head()"
   ]
  },
  {
   "cell_type": "code",
   "execution_count": null,
   "metadata": {},
   "outputs": [],
   "source": [
    "# get the total number of restaurants in Cluster-1\n",
    "print(\"Total number of restaurants in Cluster-1: {}\".format(clus1_restaurants.shape[0]))"
   ]
  },
  {
   "cell_type": "code",
   "execution_count": null,
   "metadata": {},
   "outputs": [],
   "source": [
    "# Get the number of unique restaurant category\n",
    "print(\"Number of unique restaurents category in Cluster-1: {}\".format(len(clus1_restaurants['Venue_Category'].unique())))"
   ]
  },
  {
   "cell_type": "code",
   "execution_count": null,
   "metadata": {},
   "outputs": [],
   "source": [
    "# Get all the unique restaurant category with numbers in Cluster-1\n",
    "restaurant_category_clus1 = clus1_restaurants['Venue_Category'].value_counts().rename_axis('Restaurant Category').reset_index(name='Counts')\n",
    "print(\"Top 5 Restaurant categories are:\") \n",
    "restaurant_category_clus1.head(5)"
   ]
  },
  {
   "cell_type": "code",
   "execution_count": null,
   "metadata": {
    "scrolled": true
   },
   "outputs": [],
   "source": [
    "# visualize the restaurants using barchart\n",
    "import plotly.express as px \n",
    "df = restaurant_category_clus1.sort_values(by=\"Counts\", ascending=True, ignore_index=True)\n",
    "\n",
    "fig = px.bar(df, x=\"Counts\", y=\"Restaurant Category\", orientation='h') \n",
    "\n",
    "fig.update_layout(\n",
    "    title={\n",
    "        'text': \"Restaurant Category\",\n",
    "        'y':0.93,\n",
    "        'x':0.5,\n",
    "        'xanchor': 'center',\n",
    "        'yanchor': 'top'})\n",
    "\n",
    "colors = ['green', ] * df[\"Counts\"].count()\n",
    "colors[int(df[df[\"Counts\"] == max(df[\"Counts\"])].index[0])] = 'red'\n",
    "fig.update_traces(marker=dict(color=colors, opacity=0.8))\n",
    "\n",
    "fig.show()"
   ]
  },
  {
   "cell_type": "markdown",
   "metadata": {},
   "source": [
    "Let's find the number of restaurants of each category in each neighborhood."
   ]
  },
  {
   "cell_type": "code",
   "execution_count": null,
   "metadata": {},
   "outputs": [],
   "source": [
    "# merge clus1_restaurants with sd_merged on 'Neighborhoods'\n",
    "clus1_rest_df = sd_merged.join(clus1_restaurants.set_index('Neighborhoods'), on='Neighborhoods')\n",
    "clus1_rest_df.head(3)"
   ]
  },
  {
   "cell_type": "code",
   "execution_count": null,
   "metadata": {},
   "outputs": [],
   "source": [
    "# create a new dataframe containing Neighborhoods, Restaurants Category, Counts\n",
    "restaurants_cluster1 = clus1_restaurants.groupby('Neighborhoods')['Venue_Category'].value_counts().reset_index(name='Counts').rename(columns={\"Venue_Category\": \"Restaurant Category\"})\n",
    "restaurants_cluster1.head(5)"
   ]
  },
  {
   "cell_type": "markdown",
   "metadata": {},
   "source": [
    "Let's plot the number of restaurants in each neighborhood of Cluster-1"
   ]
  },
  {
   "cell_type": "code",
   "execution_count": null,
   "metadata": {},
   "outputs": [],
   "source": [
    "# plot a stack barchart to display the number of restaurants in Cluster-1 using Plotly visualization library\n",
    "import plotly.express as px \n",
    "\n",
    "fig = px.bar(restaurants_cluster1, x=\"Neighborhoods\", y=\"Counts\", \n",
    "             color=\"Restaurant Category\", hover_data=['Restaurant Category'], \n",
    "             barmode = 'stack') \n",
    "\n",
    "fig.update_layout(\n",
    "    title={\n",
    "        'text': \"Number of restaurants in Cluster-1\",\n",
    "        'y':0.93,\n",
    "        'x':0.4,\n",
    "        'xanchor': 'center',\n",
    "        'yanchor': 'top'},\n",
    "    xaxis_tickangle=-45,\n",
    "    xaxis={'categoryorder':'category ascending'})\n",
    "fig.show()"
   ]
  },
  {
   "cell_type": "markdown",
   "metadata": {},
   "source": [
    "Let's find the neighborhoods with <b>no Italian restaurants but have other restaurants</b>."
   ]
  },
  {
   "cell_type": "code",
   "execution_count": null,
   "metadata": {},
   "outputs": [],
   "source": [
    "# create a dataframe with neighborhoods which have no Italian restaurants (Cluster-1)\n",
    "hoods_italian_rests = restaurants_cluster1[restaurants_cluster1['Restaurant Category'] == 'Italian Restaurant'].reset_index(drop=True)\n",
    "list_italian_rests = hoods_italian_rests['Neighborhoods'].unique()\n",
    "\n",
    "# filter the neighborhoods \n",
    "index_names = restaurants_cluster1[restaurants_cluster1['Neighborhoods'].isin(list(list_italian_rests))].index\n",
    "hoods_no_italian_rests = restaurants_cluster1.drop(index_names)\n",
    "list_no_italian_rests = hoods_no_italian_rests['Neighborhoods'].unique()\n",
    "\n",
    "print(\"Neighborhoods with no Italian restaurants:\")\n",
    "print(list(list_no_italian_rests))\n",
    "print('')\n",
    "print(\"Number of neighborhoods with no Italian restaurants: {}\".format(len(list_no_italian_rests)))"
   ]
  },
  {
   "cell_type": "code",
   "execution_count": null,
   "metadata": {},
   "outputs": [],
   "source": [
    "import plotly.express as px \n",
    "\n",
    "fig = px.bar(hoods_no_italian_rests, x=\"Counts\", y=\"Neighborhoods\",\n",
    "             color=\"Restaurant Category\", hover_data=['Restaurant Category'], \n",
    "             barmode = 'stack', orientation='h') \n",
    "\n",
    "fig.update_layout(\n",
    "    title={\n",
    "        'text': \"Number of Non-Italian restaurants in Cluster-1\",\n",
    "        'y':0.93,\n",
    "        'x':0.4,\n",
    "        'xanchor': 'center',\n",
    "        'yanchor': 'top'})\n",
    "fig.show()"
   ]
  },
  {
   "cell_type": "markdown",
   "metadata": {},
   "source": [
    "Ok, now we have <b>19</b> neighborhoods within <b>Cluster-0</b> that have no Italian restaurants. From the above barchart, we have chosen neighborhoods having restaurants of 4 or more different categories and these are as follows:\n",
    "1. Chollas View\n",
    "- City Heights\n",
    "- Grant Hill\n",
    "- Islenair\n",
    "- Lincoln Park\n",
    "- Linda Vista\n",
    "- Logan Heights\n",
    "- Rolando Park\n",
    "- Sherman Heights\n",
    "- Talmadge\n",
    "- Valencia Park"
   ]
  },
  {
   "cell_type": "markdown",
   "metadata": {},
   "source": [
    "### E.2 Get all the neighborhoods in Cluster-2"
   ]
  },
  {
   "cell_type": "code",
   "execution_count": null,
   "metadata": {},
   "outputs": [],
   "source": [
    "clus2_neighborhoods = cluster2['Neighborhoods']\n",
    "print(\"Number of neighborhoods in Cluster-2: {}\\n\".format(clus2_neighborhoods.shape[0]))\n",
    "\n",
    "print(\"Neighborhoods in Cluster-2:\\n\")\n",
    "print(list(clus2_neighborhoods))"
   ]
  },
  {
   "cell_type": "markdown",
   "metadata": {},
   "source": [
    "#### Get the number and category of restaurants in each Neighborhood of Cluster-2"
   ]
  },
  {
   "cell_type": "code",
   "execution_count": null,
   "metadata": {},
   "outputs": [],
   "source": [
    "# Create a new dataframe including neighborhoods of Cluster-2 and all the restaurants\n",
    "clus2_neighbors = sd_venues[sd_venues['Neighborhoods'].isin(list(clus2_neighborhoods))]\n",
    "print(clus2_neighbors.head())\n",
    "clus2_restaurants = clus2_neighbors.loc[clus2_neighbors.Venue_Category.str.contains('Restaurant', na=False)].reset_index(drop=True)\n",
    "clus2_restaurants.head()"
   ]
  },
  {
   "cell_type": "code",
   "execution_count": null,
   "metadata": {},
   "outputs": [],
   "source": [
    "# get the total number of restaurants in Cluster-2\n",
    "print(\"Total number of restaurants in Cluster-2: {}\".format(clus2_restaurants.shape[0]))"
   ]
  },
  {
   "cell_type": "code",
   "execution_count": null,
   "metadata": {},
   "outputs": [],
   "source": [
    "# Get the number of unique restaurant category\n",
    "print(\"Number of unique restaurents category in Cluster-2: {}\".format(len(clus2_restaurants['Venue_Category'].unique())))"
   ]
  },
  {
   "cell_type": "code",
   "execution_count": null,
   "metadata": {},
   "outputs": [],
   "source": [
    "# Get all the unique restaurant category with numbers in Cluster-2\n",
    "restaurant_category = clus2_restaurants['Venue_Category'].value_counts().rename_axis('Restaurant Category').reset_index(name='Counts')\n",
    "print(\"Top 5 Restaurant categories are:\") \n",
    "restaurant_category.head(5)"
   ]
  },
  {
   "cell_type": "code",
   "execution_count": null,
   "metadata": {},
   "outputs": [],
   "source": [
    "# visualize the restaurants using barchart\n",
    "import plotly.express as px \n",
    "df = restaurant_category.sort_values(by=\"Counts\", ascending=True, ignore_index=True)\n",
    "\n",
    "fig = px.bar(df, x=\"Counts\", y=\"Restaurant Category\", orientation='h') \n",
    "\n",
    "fig.update_layout(\n",
    "    title={\n",
    "        'text': \"Restaurant Category\",\n",
    "        'y':0.93,\n",
    "        'x':0.5,\n",
    "        'xanchor': 'center',\n",
    "        'yanchor': 'top'})\n",
    "\n",
    "colors = ['green', ] * df[\"Counts\"].count()\n",
    "colors[int(df[df[\"Counts\"] == max(df[\"Counts\"])].index[0])] = 'red'\n",
    "fig.update_traces(marker=dict(color=colors, opacity=0.8))\n",
    "\n",
    "fig.show()"
   ]
  },
  {
   "cell_type": "markdown",
   "metadata": {},
   "source": [
    "Let's find the number of restaurants of each category in each neighborhood."
   ]
  },
  {
   "cell_type": "code",
   "execution_count": null,
   "metadata": {},
   "outputs": [],
   "source": [
    "# merge clus2_restaurants with sd_merged on 'Neighborhoods'\n",
    "rest_df = sd_merged.join(clus2_restaurants.set_index('Neighborhoods'), on='Neighborhoods')\n",
    "rest_df.head()"
   ]
  },
  {
   "cell_type": "code",
   "execution_count": null,
   "metadata": {},
   "outputs": [],
   "source": [
    "# create a new dataframe containing Neighborhoods, Restaurants Category, Counts\n",
    "restaurants_cluster = clus2_restaurants.groupby('Neighborhoods')['Venue_Category'].value_counts().reset_index(name='Counts').rename(columns={\"Venue_Category\": \"Restaurant Category\"})\n",
    "restaurants_cluster.head(5)"
   ]
  },
  {
   "cell_type": "markdown",
   "metadata": {},
   "source": [
    "Let's plot the number of restaurants in each neighborhood of Cluster-2"
   ]
  },
  {
   "cell_type": "code",
   "execution_count": null,
   "metadata": {},
   "outputs": [],
   "source": [
    "# plot a stack barchart to display the number of restaurants in Cluster-2 using Plotly visualization library\n",
    "import plotly.express as px \n",
    "\n",
    "fig = px.bar(restaurants_cluster, x=\"Neighborhoods\", y=\"Counts\", \n",
    "             color=\"Restaurant Category\", hover_data=['Restaurant Category'], \n",
    "             barmode = 'stack') \n",
    "\n",
    "fig.update_layout(\n",
    "    title={\n",
    "        'text': \"Number of restaurants in Cluster-2\",\n",
    "        'y':0.93,\n",
    "        'x':0.4,\n",
    "        'xanchor': 'center',\n",
    "        'yanchor': 'top'},\n",
    "    xaxis_tickangle=-45,\n",
    "    xaxis={'categoryorder':'category ascending'})\n",
    "fig.show()"
   ]
  },
  {
   "cell_type": "markdown",
   "metadata": {},
   "source": [
    "Let's find the neighborhoods with <b>no Italian restaurants but have other restaurants</b>."
   ]
  },
  {
   "cell_type": "code",
   "execution_count": null,
   "metadata": {},
   "outputs": [],
   "source": [
    "# create a dataframe with neighborhoods which have no Italian restaurants (Cluster-2)\n",
    "hoods_italian_rests = restaurants_cluster[restaurants_cluster['Restaurant Category'] == 'Italian Restaurant'].reset_index(drop=True)\n",
    "list_italian_rests = hoods_italian_rests['Neighborhoods'].unique()\n",
    "\n",
    "# filter the neighborhoods \n",
    "index_names = restaurants_cluster[restaurants_cluster['Neighborhoods'].isin(list(list_italian_rests))].index\n",
    "hoods_no_italian_rests = restaurants_cluster.drop(index_names)\n",
    "list_no_italian_rests = hoods_no_italian_rests['Neighborhoods'].unique()\n",
    "\n",
    "print(\"Neighborhoods with no Italian restaurants:\")\n",
    "print(list(list_no_italian_rests))\n",
    "print('')\n",
    "print(\"Number of neighborhoods with no Italian restaurants: {}\".format(len(list_no_italian_rests)))"
   ]
  },
  {
   "cell_type": "code",
   "execution_count": null,
   "metadata": {},
   "outputs": [],
   "source": [
    "import plotly.express as px \n",
    "\n",
    "fig = px.bar(hoods_no_italian_rests, x=\"Counts\", y=\"Neighborhoods\",\n",
    "             color=\"Restaurant Category\", hover_data=['Restaurant Category'], \n",
    "             barmode = 'stack', orientation='h') \n",
    "\n",
    "fig.update_layout(\n",
    "    title={\n",
    "        'text': \"Number of Non-Italian restaurants in Cluster-2\",\n",
    "        'y':0.93,\n",
    "        'x':0.4,\n",
    "        'xanchor': 'center',\n",
    "        'yanchor': 'top'})\n",
    "fig.show()"
   ]
  },
  {
   "cell_type": "markdown",
   "metadata": {},
   "source": [
    "Ok, now we have <b>7</b> neighborhoods within <b>Cluster-2</b> that have <b>no Italian restaurants</b>.  From the above barchart, we have chosen neighborhoods having restaurants of 4 or more different categories and these are as follows:\n",
    "1. La Playa \n",
    "- Miramar\n",
    "- Mission Valley East\n",
    "- Mission Valley West\n",
    "- Sorrento Valley"
   ]
  },
  {
   "cell_type": "markdown",
   "metadata": {},
   "source": [
    "### E.3 Get all the neighborhoods in Cluster-3"
   ]
  },
  {
   "cell_type": "code",
   "execution_count": null,
   "metadata": {},
   "outputs": [],
   "source": [
    "clus3_neighborhoods = cluster3['Neighborhoods']\n",
    "print(\"Number of neighborhoods in Cluster-3: {}\\n\".format(clus3_neighborhoods.shape[0]))\n",
    "\n",
    "print(\"Neighborhoods in Cluster-3:\\n\")\n",
    "print(list(clus3_neighborhoods))"
   ]
  },
  {
   "cell_type": "markdown",
   "metadata": {},
   "source": [
    "#### Get the number and category of restaurants in each Neighborhood of Cluster-3"
   ]
  },
  {
   "cell_type": "code",
   "execution_count": null,
   "metadata": {},
   "outputs": [],
   "source": [
    "# Create a new dataframe including neighborhoods of Cluster-3 and all the restaurants\n",
    "clus3_neighbors = sd_venues[sd_venues['Neighborhoods'].isin(list(clus3_neighborhoods))]\n",
    "print(clus3_neighbors.head())\n",
    "clus3_restaurants = clus3_neighbors.loc[clus3_neighbors.Venue_Category.str.contains('Restaurant', na=False)].reset_index(drop=True)\n",
    "clus3_restaurants.head()"
   ]
  },
  {
   "cell_type": "code",
   "execution_count": null,
   "metadata": {},
   "outputs": [],
   "source": [
    "# get the total number of restaurants in Cluster-3\n",
    "print(\"Total number of restaurants in Cluster-3: {}\".format(clus3_restaurants.shape[0]))"
   ]
  },
  {
   "cell_type": "code",
   "execution_count": null,
   "metadata": {},
   "outputs": [],
   "source": [
    "# Get the number of unique restaurant category\n",
    "print(\"Number of unique restaurents category in Cluster-3: {}\".format(len(clus3_restaurants['Venue_Category'].unique())))"
   ]
  },
  {
   "cell_type": "code",
   "execution_count": null,
   "metadata": {},
   "outputs": [],
   "source": [
    "# Get all the unique restaurant category with numbers in Cluster-3\n",
    "restaurant_category = clus3_restaurants['Venue_Category'].value_counts().rename_axis('Restaurant Category').reset_index(name='Counts')\n",
    "print(\"Top 5 Restaurant categories are:\") \n",
    "restaurant_category.head(5)"
   ]
  },
  {
   "cell_type": "code",
   "execution_count": null,
   "metadata": {},
   "outputs": [],
   "source": [
    "# visualize the restaurants using barchart\n",
    "import plotly.express as px \n",
    "df = restaurant_category.sort_values(by=\"Counts\", ascending=True, ignore_index=True)\n",
    "\n",
    "fig = px.bar(df, x=\"Counts\", y=\"Restaurant Category\", orientation='h') \n",
    "\n",
    "fig.update_layout(\n",
    "    title={\n",
    "        'text': \"Restaurant Category\",\n",
    "        'y':0.93,\n",
    "        'x':0.5,\n",
    "        'xanchor': 'center',\n",
    "        'yanchor': 'top'})\n",
    "\n",
    "colors = ['green', ] * df[\"Counts\"].count()\n",
    "colors[int(df[df[\"Counts\"] == max(df[\"Counts\"])].index[0])] = 'red'\n",
    "fig.update_traces(marker=dict(color=colors, opacity=0.8))\n",
    "\n",
    "fig.show()"
   ]
  },
  {
   "cell_type": "markdown",
   "metadata": {},
   "source": [
    "Let's find the number of restaurants of each category in each neighborhood."
   ]
  },
  {
   "cell_type": "code",
   "execution_count": null,
   "metadata": {},
   "outputs": [],
   "source": [
    "# merge clus3_restaurants with sd_merged on 'Neighborhoods'\n",
    "rest_df = sd_merged.join(clus3_restaurants.set_index('Neighborhoods'), on='Neighborhoods')\n",
    "rest_df.head()"
   ]
  },
  {
   "cell_type": "code",
   "execution_count": null,
   "metadata": {},
   "outputs": [],
   "source": [
    "# create a new dataframe containing Neighborhoods, Restaurants Category, Counts\n",
    "restaurants_cluster = clus3_restaurants.groupby('Neighborhoods')['Venue_Category'].value_counts().reset_index(name='Counts').rename(columns={\"Venue_Category\": \"Restaurant Category\"})\n",
    "restaurants_cluster.head(5)\n",
    "# len(restaurants_cluster['Neighborhoods'].unique())"
   ]
  },
  {
   "cell_type": "markdown",
   "metadata": {},
   "source": [
    "Let's plot the number of restaurants in each neighborhood of Cluster-3"
   ]
  },
  {
   "cell_type": "code",
   "execution_count": null,
   "metadata": {},
   "outputs": [],
   "source": [
    "# plot a stack barchart to display the number of restaurants in Cluster-3 using Plotly visualization library\n",
    "import plotly.express as px \n",
    "\n",
    "fig = px.bar(restaurants_cluster, x=\"Neighborhoods\", y=\"Counts\", \n",
    "             color=\"Restaurant Category\", hover_data=['Restaurant Category'], \n",
    "             barmode = 'stack') \n",
    "\n",
    "fig.update_layout(\n",
    "    title={\n",
    "        'text': \"Number of restaurants in Cluster-3\",\n",
    "        'y':0.93,\n",
    "        'x':0.4,\n",
    "        'xanchor': 'center',\n",
    "        'yanchor': 'top'},\n",
    "    xaxis_tickangle=-45,\n",
    "    xaxis={'categoryorder':'category ascending'})\n",
    "fig.show()"
   ]
  },
  {
   "cell_type": "markdown",
   "metadata": {},
   "source": [
    "Let's find the neighborhoods with <b>no Italian restaurants but have other restaurants</b>."
   ]
  },
  {
   "cell_type": "code",
   "execution_count": null,
   "metadata": {},
   "outputs": [],
   "source": [
    "# create a dataframe with neighborhoods which have no Italian restaurants (Cluster-3)\n",
    "hoods_italian_rests = restaurants_cluster[restaurants_cluster['Restaurant Category'] == 'Italian Restaurant'].reset_index(drop=True)\n",
    "list_italian_rests = hoods_italian_rests['Neighborhoods'].unique()\n",
    "\n",
    "# filter the neighborhoods \n",
    "index_names = restaurants_cluster[restaurants_cluster['Neighborhoods'].isin(list(list_italian_rests))].index\n",
    "hoods_no_italian_rests = restaurants_cluster.drop(index_names)\n",
    "list_no_italian_rests = hoods_no_italian_rests['Neighborhoods'].unique()\n",
    "\n",
    "print(\"Neighborhoods with no Italian restaurants:\")\n",
    "print(list(list_no_italian_rests))\n",
    "print('')\n",
    "print(\"Number of neighborhoods with no Italian restaurants: {}\".format(len(list_no_italian_rests)))"
   ]
  },
  {
   "cell_type": "code",
   "execution_count": null,
   "metadata": {},
   "outputs": [],
   "source": [
    "import plotly.express as px \n",
    "\n",
    "fig = px.bar(hoods_no_italian_rests, x=\"Counts\", y=\"Neighborhoods\",\n",
    "             color=\"Restaurant Category\", hover_data=['Restaurant Category'], \n",
    "             barmode = 'stack', orientation='h') \n",
    "\n",
    "fig.update_layout(\n",
    "    title={\n",
    "        'text': \"Number of Non-Italian restaurants in Cluster-3\",\n",
    "        'y':0.93,\n",
    "        'x':0.4,\n",
    "        'xanchor': 'center',\n",
    "        'yanchor': 'top'})\n",
    "fig.show()"
   ]
  },
  {
   "cell_type": "markdown",
   "metadata": {},
   "source": [
    "Ok, now we have <b>24</b> neighborhoods within <b>Cluster-3</b> that have <b>no Italian restaurants</b>.  From the above barchart, we have chosen neighborhoods having restaurants of 4 or more different categories and these are as follows:\n",
    "1. Bankers Hill\n",
    "- Clairemont\n",
    "- Cortez Hill\n",
    "- Del Cerro\n",
    "- Del Mar Heights\n",
    "- Del Mar Mesa\n",
    "- Gaslamp Quarter\n",
    "- Mira Mesa\n",
    "- Morena\n",
    "- Rancho Peasquitos\n",
    "- Serra Mesa"
   ]
  },
  {
   "cell_type": "markdown",
   "metadata": {},
   "source": [
    "### F. Importing and Merging demographical dataset"
   ]
  },
  {
   "cell_type": "markdown",
   "metadata": {},
   "source": [
    "In this section, we will import <b>demographical</b> dataset and perform basic <b>exploratory data analysis</b> to get the <b>demographical information</b> such as <b>Population</b>, <b>Median Home Value</b>, <b>Median Rent</b>,   <b>Median Household Income</b>, <b>Diversity</b>, <b>Cost of Living</b>, <b>Commute</b>, <b>Parking</b>, <b>Walkable to Restaurants</b>, and <b>Crime and Safety</b> of these selected <b>7</b> neighborhoods from <b>Cluster-0</b> and <b>14</b> neighborhoods from <b>Cluster-3</b>. Then, we will merge <b>demographical</b> dataset to the dataframe <b>sd_merged</b>. Finally, we will filter out <b>few most adequate neighborhoods</b> based on this new <b>merged dataset</b>."
   ]
  },
  {
   "cell_type": "code",
   "execution_count": null,
   "metadata": {},
   "outputs": [],
   "source": [
    "# let's create new dataframe with selected neighborhoods from Cluster-1 and Cluster-3\n",
    "\n",
    "top_hoods = ['Chollas View', 'City Heights', 'Grant Hill', 'Islenair', 'Lincoln Park', \n",
    "            'Linda Vista', 'Logan Heights', 'Rolando Park', 'Sherman Heights', 'Talmadge', \n",
    "            'Valencia Park', 'La Playa', 'Miramar', 'Mission Valley East', 'Mission Valley West',\n",
    "            'Sorrento Valley', 'Bankers Hill', 'Clairemont', 'Cortez Hill', 'Del Cerro', \n",
    "            'Del Mar Heights', 'Del Mar Mesa', 'Gaslamp Quarter', 'Mira Mesa', 'Morena',\n",
    "            'Rancho Peasquitos', 'Serra Mesa']\n",
    "print(\"Number of neighborhoods: {}\".format(len(top_hoods)))\n",
    "top_places = sd_merged[sd_merged['Neighborhoods'].isin(top_hoods)]\n",
    "top_places.head(3)"
   ]
  },
  {
   "cell_type": "code",
   "execution_count": null,
   "metadata": {},
   "outputs": [],
   "source": [
    "# check all the neiborhoods are present or not\n",
    "print(\"Number of neighborhoods: {}\".format(len(top_places['Neighborhoods'])))\n",
    "print(list(top_places['Neighborhoods']))"
   ]
  },
  {
   "cell_type": "markdown",
   "metadata": {},
   "source": [
    "#### Import demographical dataset"
   ]
  },
  {
   "cell_type": "code",
   "execution_count": null,
   "metadata": {},
   "outputs": [],
   "source": [
    "# import San Diego demographical data\n",
    "sd_demo = pd.read_csv(\"../data/san_diego_data.csv\")\n",
    "sd_demo.head()"
   ]
  },
  {
   "cell_type": "code",
   "execution_count": null,
   "metadata": {},
   "outputs": [],
   "source": [
    "# Drop all the rows with missing value\n",
    "sd_demo.dropna(axis=0, inplace=True, how ='any')\n",
    "sd_demo.reset_index(drop=True)\n",
    "print(sd_demo.shape)\n",
    "# sd_demo.info()\n",
    "sd_demo.head()"
   ]
  },
  {
   "cell_type": "code",
   "execution_count": null,
   "metadata": {},
   "outputs": [],
   "source": [
    "# print the list of all the 12 neighborhoods\n",
    "print(\"Filtered Neighborhoods:\")\n",
    "print(list(sd_demo['Neighborhoods']))"
   ]
  },
  {
   "cell_type": "markdown",
   "metadata": {},
   "source": [
    "Now, we will create a new dataframe by summing up the ratings of features - <b>Diversity</b>, <b>Commute</b>, <b>Crime and Safety</b>, <b>Walkable to Restaurants</b>, and <b>Parking</b>; and add a new column <b>Overall Rating</b>."
   ]
  },
  {
   "cell_type": "code",
   "execution_count": null,
   "metadata": {},
   "outputs": [],
   "source": [
    "sd_demo['Overall Rating'] = sd_demo[[\"Diversity\", \"Commute\", \"Crime and Safety\", \"Walkable to Restaurants\", \"Parking\"]].sum(axis=1)\n",
    "sd_demo.head(12)"
   ]
  },
  {
   "cell_type": "markdown",
   "metadata": {},
   "source": [
    "## 5. Results"
   ]
  },
  {
   "cell_type": "markdown",
   "metadata": {},
   "source": [
    "### A. List of the top 12 Neighborhoods"
   ]
  },
  {
   "cell_type": "code",
   "execution_count": null,
   "metadata": {},
   "outputs": [],
   "source": [
    "# print the list of 12 neighborhoods\n",
    "print(\"Top 12 neighborhoods are: \")\n",
    "print(list(sd_demo['Neighborhoods']))"
   ]
  },
  {
   "cell_type": "markdown",
   "metadata": {},
   "source": [
    "### B. Create a barplot of 'Neighborhoods' vs 'Overall Rating'"
   ]
  },
  {
   "cell_type": "code",
   "execution_count": null,
   "metadata": {},
   "outputs": [],
   "source": [
    "# create a barplot of 'Neighborhoods' vs 'Overall Rating'\n",
    "import plotly.express as px \n",
    "hoods_rating = sd_demo.sort_values(by=\"Overall Rating\", ascending=True, ignore_index=True)\n",
    "\n",
    "fig = px.bar(hoods_rating, x=\"Overall Rating\", y=\"Neighborhoods\", orientation='h', text=\"Overall Rating\") \n",
    "\n",
    "fig.update_layout(\n",
    "    title={\n",
    "        'text': \"Neighborhoods vs Overall Rating\",\n",
    "        'y':0.94,\n",
    "        'x':0.5,\n",
    "        'xanchor': 'center',\n",
    "        'yanchor': 'top'})\n",
    "fig.update_traces(texttemplate='%{text:.4s}', textposition='outside')\n",
    "fig.show()"
   ]
  },
  {
   "cell_type": "markdown",
   "metadata": {},
   "source": [
    "### C. Create the final dataframe 'sd_selected_neiborhoods'"
   ]
  },
  {
   "cell_type": "markdown",
   "metadata": {},
   "source": [
    "Let’s merge <b>demographical</b> information about these neighborhoods with <b>selected neighborhoods</b> data from <b>Cluster-0</b> and <b>Cluster-3</b> in our final dataframe '<b>sd_selected_neiborhoods</b>'."
   ]
  },
  {
   "cell_type": "code",
   "execution_count": null,
   "metadata": {},
   "outputs": [],
   "source": [
    "# merge 'sd_demo' to 'sd_merged' on 'Neighborhoods'\n",
    "sd_selected_neiborhoods = sd_demo.join(sd_merged.set_index('Neighborhoods'), on='Neighborhoods').reset_index(drop=True)\n",
    "print(sd_selected_neiborhoods.shape[0])\n",
    "sd_selected_neiborhoods.head(3)"
   ]
  },
  {
   "cell_type": "markdown",
   "metadata": {},
   "source": [
    "### D. Create a map of San Diego with the selected 12 neighborhoods superimposed on top"
   ]
  },
  {
   "cell_type": "markdown",
   "metadata": {},
   "source": [
    "Now, let's create a map of San Diego using <b>folium</b> library, and display the map with the selected <b>12</b> neighborhoods superimposed on top. Note that <b>size of each circle</b> is corresponding to <b>overall rating</b>."
   ]
  },
  {
   "cell_type": "code",
   "execution_count": null,
   "metadata": {},
   "outputs": [],
   "source": [
    "# create map of San Diego using latitude and longitude values\n",
    "sd_map = folium.Map(location=[32.7174202, -117.1627728], zoom_start=10)\n",
    "# ratings = \n",
    "\n",
    "# add markers to map\n",
    "for lat, lng, neighborhood, i in zip(sd_selected_neiborhoods['Latitude'], sd_selected_neiborhoods['Longitude'], \n",
    "                                     sd_selected_neiborhoods['Neighborhoods'], sd_selected_neiborhoods['Overall Rating']):\n",
    "    label = '{}\\nRating: {:0.2f}'.format(neighborhood, i)\n",
    "    label = folium.Popup(label, parse_html=True)\n",
    "    folium.CircleMarker(\n",
    "        [lat, lng],\n",
    "        radius=float(i/5),\n",
    "        popup=label,\n",
    "        color='red',\n",
    "        fill=True,\n",
    "        fill_color='royalblue',\n",
    "        fill_opacity=0.7,\n",
    "        parse_html=False\n",
    "    ).add_to(sd_map)\n",
    "\n",
    "# display the map\n",
    "sd_map"
   ]
  },
  {
   "cell_type": "markdown",
   "metadata": {},
   "source": [
    "## 6. Discussion"
   ]
  },
  {
   "cell_type": "markdown",
   "metadata": {},
   "source": [
    "As I mentioned before, being so attractive economically and geographically, San Diego draws in people like a magnet. Business owners often consider San Diego city as a good destination for moving and expanding their business because of housing and low cost of doing business as compared to Los Angeles and San Francisco areas. Also, its year-around good weather tremendously helps small businessess that rely on foot traffic.\n",
    "\n",
    "I have used <b>exploratory data analysis</b> and <b><i>K</i>-means clustering</b> algorithm for modeling in order to discover a few precise locations for opening up an <b>Italian</b> restaurant considering following elements:\n",
    "- Know the neighborhood, specifically, who else is doing business in the neighborhood\n",
    "- Find a place which is not crowded with similar restaurants in vicinity\n",
    "- Accessibility and visibility of the location\n",
    "- Population base to know the foot traffic or car traffic in the area to support the business\n",
    "- Parking\n",
    "- Diversity (based on ethnic and economic diversity)\n",
    "- Commute\n",
    "- Crime and Safety (based on violent and property crime rates)\n",
    "\n",
    "I used the <b><i>K</i>-means clustering</b> algorithm as part of this clustering study. I have set the optimum k value to 5 based on the methods (Elbow method, Silhouette Method, square root of the number of data points divided by two). \n",
    "\n",
    "I have assigned name to each cluster as follows: \n",
    "1. Cluster-0: <b>Multiple Venues - office, residential buildings, salon, government buildings restaurantsm, doctor's place</b>     \n",
    "- Cluster-1: <b>Zoo exhibit</b>   \n",
    "- Cluster-2: <b>Automotive shops, salon, church</b>\n",
    "- Cluster-3: <b>Multiple Venues - residential buildings, college and academic buidings, Salon, office, bank, restaurants, park, doctor's and dentist's place</b>   \n",
    "\n",
    "have observed that <b>Cluster-1</b>, <b>Cluster-2</b>, and <b>Cluster-3</b> have multiple venues such as residential buildings, college and academic buidings, Salon, office, bank, restaurants and marketplace etc. Then, I have performed explanatory data analysis and derived relevant informations about each neighborhood of <b>Cluster-1</b>, <b>Cluster-1</b>, and <b>Cluster-3</b> as follows:\n",
    "- Number of neighborhoods in Cluster-1: 24\n",
    "- Total number of restaurants in Cluster-1: 215\n",
    "- Number of unique restaurents category in Cluster-1: 27\n",
    "- Number of neighborhoods with no Italian restaurants in Cluster-1: 19\n",
    "- Number of neighborhoods in Cluster-2: 17\n",
    "- Total number of restaurants in Cluster-2: 80\n",
    "- Number of unique restaurents category in Cluster-2: 19\n",
    "- Number of neighborhoods with no Italian restaurants in Cluster-2: 7\n",
    "- Number of neighborhoods in Cluster-3: 39\n",
    "- Total number of restaurants in Cluster-3: 241\n",
    "- Number of unique restaurents category in Cluster-3: 34\n",
    "- Number of neighborhoods with no Italian restaurants in Cluster-3: 24\n",
    "\n",
    "Then, I have selected <b>11</b> neighborhoods from <b>Cluster-1</b>, <b>5</b> neighborhoods from <b>Cluster-2</b> and <b>11</b> neighborhoods from <b>Cluster-3</b> having restaurants of 4 or more different categories, but have no Italian retaurants.\n",
    "\n",
    "Then, I have imported <b>demographical</b> dataset and perform basic <b>exploratory data analysis</b> to get the <b>demographical information</b> such as <b>Population</b>, <b>Median Home Value</b>, <b>Median Rent</b>,   <b>Median Household Income</b>, <b>Diversity</b>, <b>Cost of Living</b>, <b>Commute</b>, <b>Parking</b>, <b>Walkable to Restaurants</b>, and <b>Crime and Safety</b> of these selected <b>11</b> neighborhoods from <b>Cluster-1</b>, <b>5</b> neighborhoods from <b>Cluster-2</b> and <b>11</b> neighborhoods from <b>Cluster-3</b>. Then, I have merged <b>demographical</b> dataset to the dataframe <b>sd_merged</b> to get the final dataframe.\n",
    "\n",
    "I have discovered following <b>12</b> neighborhoods based on the analysis: \n",
    "- <b>Mission Valley East</b> \n",
    "- <b>Mission Valley West</b>\n",
    "- <b>Otay Mesa</b>\n",
    "- <b>Miramar</b>\n",
    "- <b>Linda Vista</b>\n",
    "- <b>Rancho Peasquitos</b>\n",
    "- <b>Normal Heights</b>\n",
    "- <b>Serra Mesa</b>\n",
    "- <b>Golden Hill</b>\n",
    "- <b>Mira Mesa</b>\n",
    "- <b>Clairemont</b>\n",
    "- <b>Torrey Highlands</b>\n",
    "\n",
    "Finally, I ended the study by visualizing the these <b>12</b> neighborhoods along with their demographic overall rating information on the San Diego map."
   ]
  },
  {
   "cell_type": "markdown",
   "metadata": {},
   "source": [
    "## 7. Conclusion"
   ]
  },
  {
   "cell_type": "markdown",
   "metadata": {},
   "source": [
    "Objective of this project was to discover a few promising neighborhoods of San Diego with having no <b>Italian</b> restaurants in the vicinity so that the stakeholders can select a optimal location for opening up a new <b>Italian Restaurant</b>.\n",
    "\n",
    "By using Foursquare API, basic exploratory data analysis, and <b><i>K</i>-means clustering</b> algorithm, we have first identified some neighborhoods of two selected clusters of interest (containing multiple venues nearby). Then, we have explored these two clusters to find out the locations which satisfy some basic requirements of this project. Then, I have merged demographical information of San Diego with these chosen neighborhoods to find more precise locations for an Italian restaurant. \n",
    "\n",
    "Final decission on optimal restaurant location will be made by stakeholders based on specific characteristics and locations of these neighborhoods."
   ]
  },
  {
   "cell_type": "code",
   "execution_count": null,
   "metadata": {},
   "outputs": [],
   "source": []
  }
 ],
 "metadata": {
  "kernelspec": {
   "display_name": "Python 3",
   "language": "python",
   "name": "python3"
  },
  "language_info": {
   "codemirror_mode": {
    "name": "ipython",
    "version": 3
   },
   "file_extension": ".py",
   "mimetype": "text/x-python",
   "name": "python",
   "nbconvert_exporter": "python",
   "pygments_lexer": "ipython3",
   "version": "3.7.3"
  }
 },
 "nbformat": 4,
 "nbformat_minor": 2
}
